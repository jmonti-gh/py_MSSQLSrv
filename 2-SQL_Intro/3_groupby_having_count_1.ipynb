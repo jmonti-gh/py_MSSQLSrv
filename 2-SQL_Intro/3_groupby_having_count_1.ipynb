{
 "cells": [
  {
   "attachments": {},
   "cell_type": "markdown",
   "metadata": {},
   "source": [
    "# SELECT {field}, COUNT() FROM {table} GROUP BY {field} HAVING COUNT() condition"
   ]
  },
  {
   "cell_type": "markdown",
   "metadata": {},
   "source": [
    "- Aggregate function: COUNT(), SUM(), AVG(), MIN(), and MAX().\n",
    "- GROUP BY... HAVING.\n",
    "- Examples in SQL Query vs Pandas "
   ]
  },
  {
   "cell_type": "markdown",
   "metadata": {},
   "source": [
    "## Two examples of GROPUP BY and agg. values in this case\n",
    "1. What was the total turnover of a given product selected by ProductID? - b: add columns like UnitPrice and ProductName.\n",
    "2. List of products that total invoiced is between x and y $, order by ProdutID or Total Invocied, Asc or Desc: - b: as in 1."
   ]
  },
  {
   "cell_type": "markdown",
   "metadata": {},
   "source": [
    "- I will use only Purchasing.PurchaseOrderDetail table\n",
    "- I will use only df_from_query function\n",
    "- And as always build the code first w/direct SQL query to the DB and second w/native Pandas using a DF tha is the whole table extracted from the DB"
   ]
  },
  {
   "cell_type": "markdown",
   "metadata": {},
   "source": [
    "## 1. Establish DB connection and def funct. to convert SQL Query result to DF\n",
    "- I define df_from_query() function to avoid using pd.read_sql() cause the warning message when using pyodbc"
   ]
  },
  {
   "cell_type": "code",
   "execution_count": 2,
   "metadata": {},
   "outputs": [
    {
     "name": "stdout",
     "output_type": "stream",
     "text": [
      "Connection String:\n",
      " DRIVER={ODBC Driver 17 for SQL Server};SERVER=(local);    DATABASE=AdventureWorks2019;UID=user1;PWD=pass1\n",
      "SUCCESS: Connection Established\n"
     ]
    }
   ],
   "source": [
    "### Connect to the DB - Establish the connection\n",
    "import pyodbc\n",
    "\n",
    "# Valid values for the connection string\n",
    "driver = '{ODBC Driver 17 for SQL Server}'\n",
    "server = '(local)'\n",
    "dbname = 'AdventureWorks2019'\n",
    "user = 'user1'\n",
    "passwd = 'pass1'\n",
    "\n",
    "# Construct the Connection String\n",
    "connection_string = f'DRIVER={driver};SERVER={server};\\\n",
    "    DATABASE={dbname};UID={user};PWD={passwd}'\n",
    "print('Connection String:\\n', connection_string)\n",
    "\n",
    "# Establish the connection\n",
    "try:\n",
    "    cnx = pyodbc.connect(connection_string)\n",
    "    cur = cnx.cursor()\n",
    "except pyodbc.Error as e:\n",
    "    print('ERROR:', e)\n",
    "else:\n",
    "    print('SUCCESS: Connection Established')\n",
    "\n",
    "# mk function to convert SQL queries to DF\n",
    "import pandas as pd\n",
    "\n",
    "def df_from_query(qry):     # convert cursor.execute(query) to DF\n",
    "    cur.execute(qry)\n",
    "    field_names = [i[0] for i in cur.description]\n",
    "    get_data = [list(x) for x in cur]\n",
    "    df = pd.DataFrame(data=get_data, columns=field_names)\n",
    "    return df"
   ]
  },
  {
   "cell_type": "markdown",
   "metadata": {},
   "source": [
    "## 2. Get the table as a DF (orders_df)\n",
    "- To apply native pandas code i need that the same DB.table i'll query will be a DF"
   ]
  },
  {
   "cell_type": "code",
   "execution_count": 3,
   "metadata": {},
   "outputs": [
    {
     "name": "stdout",
     "output_type": "stream",
     "text": [
      "Index(['PurchaseOrderID', 'PurchaseOrderDetailID', 'DueDate', 'OrderQty',\n",
      "       'ProductID', 'UnitPrice', 'LineTotal', 'ReceivedQty', 'RejectedQty',\n",
      "       'StockedQty', 'ModifiedDate'],\n",
      "      dtype='object')\n"
     ]
    },
    {
     "data": {
      "text/html": [
       "<div>\n",
       "<style scoped>\n",
       "    .dataframe tbody tr th:only-of-type {\n",
       "        vertical-align: middle;\n",
       "    }\n",
       "\n",
       "    .dataframe tbody tr th {\n",
       "        vertical-align: top;\n",
       "    }\n",
       "\n",
       "    .dataframe thead th {\n",
       "        text-align: right;\n",
       "    }\n",
       "</style>\n",
       "<table border=\"1\" class=\"dataframe\">\n",
       "  <thead>\n",
       "    <tr style=\"text-align: right;\">\n",
       "      <th></th>\n",
       "      <th>PurchaseOrderID</th>\n",
       "      <th>PurchaseOrderDetailID</th>\n",
       "      <th>DueDate</th>\n",
       "      <th>OrderQty</th>\n",
       "      <th>ProductID</th>\n",
       "      <th>UnitPrice</th>\n",
       "      <th>LineTotal</th>\n",
       "      <th>ReceivedQty</th>\n",
       "      <th>RejectedQty</th>\n",
       "      <th>StockedQty</th>\n",
       "      <th>ModifiedDate</th>\n",
       "    </tr>\n",
       "  </thead>\n",
       "  <tbody>\n",
       "    <tr>\n",
       "      <th>0</th>\n",
       "      <td>1</td>\n",
       "      <td>1</td>\n",
       "      <td>2011-04-30</td>\n",
       "      <td>4</td>\n",
       "      <td>1</td>\n",
       "      <td>50.2600</td>\n",
       "      <td>201.0400</td>\n",
       "      <td>3.00</td>\n",
       "      <td>0.00</td>\n",
       "      <td>3.00</td>\n",
       "      <td>2011-04-23 00:00:00.000</td>\n",
       "    </tr>\n",
       "    <tr>\n",
       "      <th>1</th>\n",
       "      <td>2</td>\n",
       "      <td>2</td>\n",
       "      <td>2011-04-30</td>\n",
       "      <td>3</td>\n",
       "      <td>359</td>\n",
       "      <td>45.1200</td>\n",
       "      <td>135.3600</td>\n",
       "      <td>3.00</td>\n",
       "      <td>0.00</td>\n",
       "      <td>3.00</td>\n",
       "      <td>2011-04-23 00:00:00.000</td>\n",
       "    </tr>\n",
       "    <tr>\n",
       "      <th>2</th>\n",
       "      <td>2</td>\n",
       "      <td>3</td>\n",
       "      <td>2011-04-30</td>\n",
       "      <td>3</td>\n",
       "      <td>360</td>\n",
       "      <td>45.5805</td>\n",
       "      <td>136.7415</td>\n",
       "      <td>3.00</td>\n",
       "      <td>0.00</td>\n",
       "      <td>3.00</td>\n",
       "      <td>2011-04-23 00:00:00.000</td>\n",
       "    </tr>\n",
       "    <tr>\n",
       "      <th>3</th>\n",
       "      <td>3</td>\n",
       "      <td>4</td>\n",
       "      <td>2011-04-30</td>\n",
       "      <td>550</td>\n",
       "      <td>530</td>\n",
       "      <td>16.0860</td>\n",
       "      <td>8847.3000</td>\n",
       "      <td>550.00</td>\n",
       "      <td>0.00</td>\n",
       "      <td>550.00</td>\n",
       "      <td>2011-04-23 00:00:00.000</td>\n",
       "    </tr>\n",
       "    <tr>\n",
       "      <th>4</th>\n",
       "      <td>4</td>\n",
       "      <td>5</td>\n",
       "      <td>2011-04-30</td>\n",
       "      <td>3</td>\n",
       "      <td>4</td>\n",
       "      <td>57.0255</td>\n",
       "      <td>171.0765</td>\n",
       "      <td>2.00</td>\n",
       "      <td>1.00</td>\n",
       "      <td>1.00</td>\n",
       "      <td>2011-04-23 00:00:00.000</td>\n",
       "    </tr>\n",
       "    <tr>\n",
       "      <th>...</th>\n",
       "      <td>...</td>\n",
       "      <td>...</td>\n",
       "      <td>...</td>\n",
       "      <td>...</td>\n",
       "      <td>...</td>\n",
       "      <td>...</td>\n",
       "      <td>...</td>\n",
       "      <td>...</td>\n",
       "      <td>...</td>\n",
       "      <td>...</td>\n",
       "      <td>...</td>\n",
       "    </tr>\n",
       "    <tr>\n",
       "      <th>8840</th>\n",
       "      <td>4011</td>\n",
       "      <td>8841</td>\n",
       "      <td>2014-07-24</td>\n",
       "      <td>1000</td>\n",
       "      <td>880</td>\n",
       "      <td>20.5600</td>\n",
       "      <td>20560.0000</td>\n",
       "      <td>1000.00</td>\n",
       "      <td>0.00</td>\n",
       "      <td>1000.00</td>\n",
       "      <td>2015-08-12 12:25:46.470</td>\n",
       "    </tr>\n",
       "    <tr>\n",
       "      <th>8841</th>\n",
       "      <td>4012</td>\n",
       "      <td>8842</td>\n",
       "      <td>2014-07-24</td>\n",
       "      <td>6000</td>\n",
       "      <td>881</td>\n",
       "      <td>41.5700</td>\n",
       "      <td>249420.0000</td>\n",
       "      <td>6000.00</td>\n",
       "      <td>0.00</td>\n",
       "      <td>6000.00</td>\n",
       "      <td>2015-08-12 12:25:46.483</td>\n",
       "    </tr>\n",
       "    <tr>\n",
       "      <th>8842</th>\n",
       "      <td>4012</td>\n",
       "      <td>8843</td>\n",
       "      <td>2014-07-24</td>\n",
       "      <td>6000</td>\n",
       "      <td>882</td>\n",
       "      <td>41.5700</td>\n",
       "      <td>249420.0000</td>\n",
       "      <td>6000.00</td>\n",
       "      <td>0.00</td>\n",
       "      <td>6000.00</td>\n",
       "      <td>2015-08-12 12:25:46.483</td>\n",
       "    </tr>\n",
       "    <tr>\n",
       "      <th>8843</th>\n",
       "      <td>4012</td>\n",
       "      <td>8844</td>\n",
       "      <td>2014-07-24</td>\n",
       "      <td>6000</td>\n",
       "      <td>883</td>\n",
       "      <td>41.5700</td>\n",
       "      <td>249420.0000</td>\n",
       "      <td>6000.00</td>\n",
       "      <td>0.00</td>\n",
       "      <td>6000.00</td>\n",
       "      <td>2015-08-12 12:25:46.483</td>\n",
       "    </tr>\n",
       "    <tr>\n",
       "      <th>8844</th>\n",
       "      <td>4012</td>\n",
       "      <td>8845</td>\n",
       "      <td>2014-07-24</td>\n",
       "      <td>6000</td>\n",
       "      <td>884</td>\n",
       "      <td>41.5700</td>\n",
       "      <td>249420.0000</td>\n",
       "      <td>6000.00</td>\n",
       "      <td>0.00</td>\n",
       "      <td>6000.00</td>\n",
       "      <td>2015-08-12 12:25:46.483</td>\n",
       "    </tr>\n",
       "  </tbody>\n",
       "</table>\n",
       "<p>8845 rows × 11 columns</p>\n",
       "</div>"
      ],
      "text/plain": [
       "      PurchaseOrderID  PurchaseOrderDetailID    DueDate  OrderQty  ProductID  \\\n",
       "0                   1                      1 2011-04-30         4          1   \n",
       "1                   2                      2 2011-04-30         3        359   \n",
       "2                   2                      3 2011-04-30         3        360   \n",
       "3                   3                      4 2011-04-30       550        530   \n",
       "4                   4                      5 2011-04-30         3          4   \n",
       "...               ...                    ...        ...       ...        ...   \n",
       "8840             4011                   8841 2014-07-24      1000        880   \n",
       "8841             4012                   8842 2014-07-24      6000        881   \n",
       "8842             4012                   8843 2014-07-24      6000        882   \n",
       "8843             4012                   8844 2014-07-24      6000        883   \n",
       "8844             4012                   8845 2014-07-24      6000        884   \n",
       "\n",
       "     UnitPrice    LineTotal ReceivedQty RejectedQty StockedQty  \\\n",
       "0      50.2600     201.0400        3.00        0.00       3.00   \n",
       "1      45.1200     135.3600        3.00        0.00       3.00   \n",
       "2      45.5805     136.7415        3.00        0.00       3.00   \n",
       "3      16.0860    8847.3000      550.00        0.00     550.00   \n",
       "4      57.0255     171.0765        2.00        1.00       1.00   \n",
       "...        ...          ...         ...         ...        ...   \n",
       "8840   20.5600   20560.0000     1000.00        0.00    1000.00   \n",
       "8841   41.5700  249420.0000     6000.00        0.00    6000.00   \n",
       "8842   41.5700  249420.0000     6000.00        0.00    6000.00   \n",
       "8843   41.5700  249420.0000     6000.00        0.00    6000.00   \n",
       "8844   41.5700  249420.0000     6000.00        0.00    6000.00   \n",
       "\n",
       "                ModifiedDate  \n",
       "0    2011-04-23 00:00:00.000  \n",
       "1    2011-04-23 00:00:00.000  \n",
       "2    2011-04-23 00:00:00.000  \n",
       "3    2011-04-23 00:00:00.000  \n",
       "4    2011-04-23 00:00:00.000  \n",
       "...                      ...  \n",
       "8840 2015-08-12 12:25:46.470  \n",
       "8841 2015-08-12 12:25:46.483  \n",
       "8842 2015-08-12 12:25:46.483  \n",
       "8843 2015-08-12 12:25:46.483  \n",
       "8844 2015-08-12 12:25:46.483  \n",
       "\n",
       "[8845 rows x 11 columns]"
      ]
     },
     "execution_count": 3,
     "metadata": {},
     "output_type": "execute_result"
    }
   ],
   "source": [
    "query = ''' SELECT * FROM Purchasing.PurchaseOrderDetail'''\n",
    "orders_df = df_from_query(query)\n",
    "print(orders_df.columns)\n",
    "orders_df"
   ]
  },
  {
   "cell_type": "markdown",
   "metadata": {},
   "source": [
    "## 3. First Question\n",
    "- 1. What was the total turnover of a given product selected by ProductID? - b: add columns like UnitPrice and ProductName."
   ]
  },
  {
   "cell_type": "markdown",
   "metadata": {},
   "source": [
    "### 3.1. Get the list of valid ProductIDs\n",
    "Since I will ask the user to enter the ProductID i'll have to validate it. First i'll get the list of valid ProductIDs from the table by three different methods (and take the time of each):\n",
    "1. Direct native SQL query to the table\n",
    "2. Using pandas .groupby()\n",
    "3. Using pandas .unique()\n",
    "\n",
    "Points 2. and 3. has the advantage that the table is loaded in memory as a pandas DF. Then i'll do a complete round of get the DF and then use the (faster) pandas method to make a more complete comparative."
   ]
  },
  {
   "cell_type": "code",
   "execution_count": null,
   "metadata": {},
   "outputs": [],
   "source": [
    "#%%timeit - 2.89 ms ± 263 µs per loop (mean ± std. dev. of 7 runs, 100 loops each)\n",
    "# 1. Direct native SQL query to the table\n",
    "q_31 = ''' SELECT ProductID\n",
    "            FROM Purchasing.PurchaseOrderDetail\n",
    "            GROUP BY ProductID\n",
    "            ORDER BY ProductID'''\n",
    "\n",
    "# To get a list w/the result y use the cursor() just created\n",
    "cur.execute(q_31)\n",
    "prods_IDs = [el[0] for el in cur.fetchall()] \n",
    "#prods_IDs = [el[0] for el in cur]    # same time as above\n",
    "#print(prods_IDs, type(prods_IDs))"
   ]
  },
  {
   "cell_type": "code",
   "execution_count": null,
   "metadata": {},
   "outputs": [],
   "source": [
    "#%%timeit - 6.12 ms ± 241 µs per loop (mean ± std. dev. of 7 runs, 100 loops each)\n",
    "# 2. Using pandas .groupby()\n",
    "prods_IDsp = orders_df.groupby('ProductID').first().index "
   ]
  },
  {
   "cell_type": "code",
   "execution_count": null,
   "metadata": {},
   "outputs": [],
   "source": [
    "#%%timeit - 621 µs ± 77.7 µs per loop (mean ± std. dev. of 7 runs, 1,000 loops each)\n",
    "# 3. Using pandas .unique()\n",
    "prods_IDsp1 = orders_df.ProductID.sort_values().unique()\n",
    "print(prods_IDsp1, type(prods_IDsp1))"
   ]
  },
  {
   "cell_type": "code",
   "execution_count": null,
   "metadata": {},
   "outputs": [],
   "source": [
    "#%%timeit - 146 ms ± 1.33 ms per loop (mean ± std. dev. of 7 runs, 10 loops each)\n",
    "# 4. Complete time comparative (w/1)\n",
    "qc = ''' SELECT * FROM Purchasing.PurchaseOrderDetail'''\n",
    "cur.execute(qc)\n",
    "cols = [i[0] for i in cur.description]\n",
    "dats = [list(x) for x in cur]\n",
    "cdf = pd.DataFrame(data=dats, columns=cols)\n",
    "\n",
    "prods_IDsp2 = cdf.ProductID.sort_values().unique()"
   ]
  },
  {
   "cell_type": "code",
   "execution_count": null,
   "metadata": {},
   "outputs": [],
   "source": [
    "#%%timeit - 181 ms ± 3.91 ms per loop (mean ± std. dev. of 7 runs, 1 loop each)\n",
    "# 5. Another comparative w/ a warning message ;)\n",
    "qd = ''' SELECT * FROM Purchasing.PurchaseOrderDetail'''\n",
    "ddf = pd.read_sql(qd, cnx)\n",
    "\n",
    "prods_IDsp3 = ddf.ProductID.sort_values().unique()"
   ]
  },
  {
   "cell_type": "markdown",
   "metadata": {},
   "source": [
    "### 3.2. Ask user the ProductID and validate it"
   ]
  },
  {
   "cell_type": "code",
   "execution_count": null,
   "metadata": {},
   "outputs": [],
   "source": [
    "message = f'ERROR: ProductID must be an integer included in: \\n {prods_IDsp1}'\n",
    "\n",
    "while True:\n",
    "    try:\n",
    "        prodID = int(input('Enter the ID of de Product - ProductID -: '))\n",
    "        assert prodID in prods_IDsp1        # (prods_IDs - prods_IDsp)\n",
    "    except (ValueError, AssertionError) as e:\n",
    "        print(f'{message} \\n\\n {e}')\n",
    "    except Exception as e:\n",
    "        print(f'ERROR: Unknown! \\n {e}')\n",
    "    else:\n",
    "        print(f'ProductID entered: {prodID}', type(prodID))\n",
    "        break\n"
   ]
  },
  {
   "cell_type": "code",
   "execution_count": null,
   "metadata": {},
   "outputs": [],
   "source": [
    "## An aux code to calc prods that has more than x and less than y rows\n",
    "# use it for examples of prods tha are easy to check manually\n",
    "x = 1\n",
    "y = 15\n",
    "for pID in prods_IDsp1:\n",
    "    # at this moment is easy to me to make using pandas\n",
    "    rows_num = orders_df.loc[orders_df.ProductID == pID].count()[0]\n",
    "    if rows_num > x and rows_num < y:\n",
    "        print(f'ProductID {pID} -> {rows_num} rows')"
   ]
  },
  {
   "cell_type": "markdown",
   "metadata": {},
   "source": [
    "### 3.3. Native SQL query to answer the question"
   ]
  },
  {
   "cell_type": "code",
   "execution_count": null,
   "metadata": {},
   "outputs": [],
   "source": [
    "prodID = 461   # To avoid input code\n",
    "\n",
    "q_3 = f''' SELECT ProductID, SUM(LineTotal) AS SUM_LineTotal\n",
    "            FROM Purchasing.PurchaseOrderDetail\n",
    "            WHERE ProductID = {prodID}\n",
    "            GROUP BY ProductID'''\n",
    "df_3 = df_from_query(q_3)\n",
    "df_3"
   ]
  },
  {
   "cell_type": "markdown",
   "metadata": {},
   "source": [
    "### 3.4. Native Pandas to answer the question"
   ]
  },
  {
   "cell_type": "code",
   "execution_count": null,
   "metadata": {},
   "outputs": [],
   "source": [
    "# 1. get only a DF of the ProductID we are interested in, then group then agg. SUM\n",
    "df_34 = orders_df.loc[orders_df.ProductID == prodID]\n",
    "# 2. group by and sum agg by 'LineTotal' column\n",
    "df_34 = df_34.groupby('ProductID').agg(\n",
    "    SUM_LineTotal=pd.NamedAgg(column='LineTotal', aggfunc='sum'))\n",
    "# 3. reset index to transform ProductID index to a new pandas col\n",
    "df_34.reset_index(inplace=True)\n",
    "df_34"
   ]
  },
  {
   "cell_type": "markdown",
   "metadata": {},
   "source": [
    "## 4. Second Question\n",
    "- 2. List of products that total invoiced is between min and max $, order by ProdutID or Total Invoiced, Asc or Desc: - b: add columns like UnitPrice and ProductName."
   ]
  },
  {
   "cell_type": "markdown",
   "metadata": {},
   "source": [
    "### 4.1. Ask lower and upper limits of the range of total invoiced"
   ]
  },
  {
   "cell_type": "code",
   "execution_count": null,
   "metadata": {},
   "outputs": [],
   "source": [
    "txt = 'total turnover value'\n",
    "t_low = 'Lower' + ' ' + txt\n",
    "t_hig = 'Higher' + ' ' + txt\n",
    "\n",
    "while True: \n",
    "    try:\n",
    "        min = int(input(f'{t_low}? '))\n",
    "        max = int(input(f'{t_hig}? '))\n",
    "        assert min > 0 and max > 0 and min <= max \n",
    "    except ValueError as e:\n",
    "        print(f'ERROR: {e} \\n'\n",
    "              f'{t_low} and {t_hig} must be integers')             \n",
    "    except AssertionError as e:\n",
    "        print(f'ERROR: {e} \\n'\n",
    "              f'{t_low} must be less or equal to {t_hig} and both grater than 0')\n",
    "    except Exception as e:\n",
    "        print(f'ERROR: {e}')\n",
    "    else:\n",
    "        print(f'Total income between {min:,} and {max:,}')\n",
    "        break"
   ]
  },
  {
   "cell_type": "markdown",
   "metadata": {},
   "source": [
    "### 4.2. Ask Sorting info: Column (ProductID, Total_turnover) and order (asc, desc)"
   ]
  },
  {
   "cell_type": "code",
   "execution_count": 5,
   "metadata": {},
   "outputs": [
    {
     "name": "stdout",
     "output_type": "stream",
     "text": [
      "Sorted by 'Total_turnover' column and 'DESC'\n"
     ]
    }
   ],
   "source": [
    "# dics that contain valids values\n",
    "dcol_txs = ('Total_turnover', 'ProductID')\n",
    "dcol = {'t': (dcol_txs[0], dcol_txs[0]), 'p': (dcol_txs[1], dcol_txs[1])}\n",
    "dord = {'a': ('Ascendent', 'ASC'), 'd': ('Descendent', 'DESC')}\n",
    "\n",
    "# Function to make input text to show:\n",
    "def inp_trin(dic):\n",
    "    if dic == dcol:\n",
    "        o1, o2 = 't', 'p'\n",
    "    elif dic == dord:\n",
    "        o1, o2 = 'a', 'd'\n",
    "    return f'[{o1}: {dic[o1][0]}, {o2}: {dic[o2][0]}]'\n",
    "\n",
    "# Function to check and complete sorting options:\n",
    "def sort_inputed(dic, inp):\n",
    "    if inp.lower() in dic.keys():\n",
    "        return dic[inp.lower()][1]\n",
    "    else:\n",
    "        raise AssertionError\n",
    "\n",
    "# Loop to input and validate sorting options    \n",
    "while True: \n",
    "    try:\n",
    "        sort_col = input(f'Sorting column {inp_trin(dcol)}? ')\n",
    "        sort_col = sort_inputed(dcol, sort_col)\n",
    "        sort_order = input(f'Sorting order {inp_trin(dord)}? ')\n",
    "        sort_order = sort_inputed(dord, sort_order)  \n",
    "    except AssertionError as e:\n",
    "        print(f'ERROR: Invalid Input {e} \\n'\n",
    "              f' Valid Columns: {inp_trin(dcol)} \\n'\n",
    "              f' Valid ordering {inp_trin(dord)}')\n",
    "    except Exception as e:\n",
    "        print(f'ERROR: {e}')\n",
    "    else:\n",
    "        print(f\"Sorted by '{sort_col}' column and '{sort_order}'\")\n",
    "        break"
   ]
  },
  {
   "cell_type": "markdown",
   "metadata": {},
   "source": [
    "### 4.3. Native SQL query"
   ]
  },
  {
   "cell_type": "code",
   "execution_count": 12,
   "metadata": {},
   "outputs": [
    {
     "name": "stdout",
     "output_type": "stream",
     "text": [
      "300,000 - 1,000,000  |  ProductID - ASC\n"
     ]
    }
   ],
   "source": [
    "## To faster the proofs\n",
    "min = 300_000\n",
    "max = 1_000_000\n",
    "sort_col = dcol['p'][1]\n",
    "sort_order = dord['a'][1]\n",
    "print(f'{min:,} - {max:,}  |  {sort_col} - {sort_order}')"
   ]
  },
  {
   "cell_type": "code",
   "execution_count": 13,
   "metadata": {},
   "outputs": [
    {
     "data": {
      "text/html": [
       "<div>\n",
       "<style scoped>\n",
       "    .dataframe tbody tr th:only-of-type {\n",
       "        vertical-align: middle;\n",
       "    }\n",
       "\n",
       "    .dataframe tbody tr th {\n",
       "        vertical-align: top;\n",
       "    }\n",
       "\n",
       "    .dataframe thead th {\n",
       "        text-align: right;\n",
       "    }\n",
       "</style>\n",
       "<table border=\"1\" class=\"dataframe\">\n",
       "  <thead>\n",
       "    <tr style=\"text-align: right;\">\n",
       "      <th></th>\n",
       "      <th>ProductID</th>\n",
       "      <th>Total_turnover</th>\n",
       "    </tr>\n",
       "  </thead>\n",
       "  <tbody>\n",
       "    <tr>\n",
       "      <th>0</th>\n",
       "      <td>509</td>\n",
       "      <td>798105.0000</td>\n",
       "    </tr>\n",
       "    <tr>\n",
       "      <th>1</th>\n",
       "      <td>523</td>\n",
       "      <td>592289.7750</td>\n",
       "    </tr>\n",
       "    <tr>\n",
       "      <th>2</th>\n",
       "      <td>524</td>\n",
       "      <td>759874.5000</td>\n",
       "    </tr>\n",
       "    <tr>\n",
       "      <th>3</th>\n",
       "      <td>530</td>\n",
       "      <td>451212.3000</td>\n",
       "    </tr>\n",
       "    <tr>\n",
       "      <th>4</th>\n",
       "      <td>908</td>\n",
       "      <td>707720.4750</td>\n",
       "    </tr>\n",
       "    <tr>\n",
       "      <th>5</th>\n",
       "      <td>911</td>\n",
       "      <td>823740.2250</td>\n",
       "    </tr>\n",
       "    <tr>\n",
       "      <th>6</th>\n",
       "      <td>914</td>\n",
       "      <td>464079.0000</td>\n",
       "    </tr>\n",
       "    <tr>\n",
       "      <th>7</th>\n",
       "      <td>915</td>\n",
       "      <td>669669.0000</td>\n",
       "    </tr>\n",
       "    <tr>\n",
       "      <th>8</th>\n",
       "      <td>916</td>\n",
       "      <td>878152.2750</td>\n",
       "    </tr>\n",
       "  </tbody>\n",
       "</table>\n",
       "</div>"
      ],
      "text/plain": [
       "   ProductID Total_turnover\n",
       "0        509    798105.0000\n",
       "1        523    592289.7750\n",
       "2        524    759874.5000\n",
       "3        530    451212.3000\n",
       "4        908    707720.4750\n",
       "5        911    823740.2250\n",
       "6        914    464079.0000\n",
       "7        915    669669.0000\n",
       "8        916    878152.2750"
      ]
     },
     "execution_count": 13,
     "metadata": {},
     "output_type": "execute_result"
    }
   ],
   "source": [
    "q_43 = f''' SELECT ProductID, SUM(LineTotal) AS {dcol['t'][0]}\n",
    "            FROM Purchasing.PurchaseOrderDetail\n",
    "            GROUP BY ProductID\n",
    "            HAVING SUM(LineTotal) >= {min} and SUM(LineTotal) <= {max}\n",
    "            ORDER BY {sort_col} {sort_order} '''\n",
    "df_43 = df_from_query(q_43)\n",
    "df_43"
   ]
  },
  {
   "cell_type": "markdown",
   "metadata": {},
   "source": [
    "### 4.4. Native Pandas to answer the question"
   ]
  },
  {
   "cell_type": "code",
   "execution_count": 16,
   "metadata": {},
   "outputs": [
    {
     "data": {
      "text/html": [
       "<div>\n",
       "<style scoped>\n",
       "    .dataframe tbody tr th:only-of-type {\n",
       "        vertical-align: middle;\n",
       "    }\n",
       "\n",
       "    .dataframe tbody tr th {\n",
       "        vertical-align: top;\n",
       "    }\n",
       "\n",
       "    .dataframe thead th {\n",
       "        text-align: right;\n",
       "    }\n",
       "</style>\n",
       "<table border=\"1\" class=\"dataframe\">\n",
       "  <thead>\n",
       "    <tr style=\"text-align: right;\">\n",
       "      <th></th>\n",
       "      <th>ProductID</th>\n",
       "      <th>Total_turnover</th>\n",
       "    </tr>\n",
       "  </thead>\n",
       "  <tbody>\n",
       "    <tr>\n",
       "      <th>0</th>\n",
       "      <td>509</td>\n",
       "      <td>798105.0000</td>\n",
       "    </tr>\n",
       "    <tr>\n",
       "      <th>1</th>\n",
       "      <td>523</td>\n",
       "      <td>592289.7750</td>\n",
       "    </tr>\n",
       "    <tr>\n",
       "      <th>2</th>\n",
       "      <td>524</td>\n",
       "      <td>759874.5000</td>\n",
       "    </tr>\n",
       "    <tr>\n",
       "      <th>3</th>\n",
       "      <td>530</td>\n",
       "      <td>451212.3000</td>\n",
       "    </tr>\n",
       "    <tr>\n",
       "      <th>4</th>\n",
       "      <td>908</td>\n",
       "      <td>707720.4750</td>\n",
       "    </tr>\n",
       "    <tr>\n",
       "      <th>5</th>\n",
       "      <td>911</td>\n",
       "      <td>823740.2250</td>\n",
       "    </tr>\n",
       "    <tr>\n",
       "      <th>6</th>\n",
       "      <td>914</td>\n",
       "      <td>464079.0000</td>\n",
       "    </tr>\n",
       "    <tr>\n",
       "      <th>7</th>\n",
       "      <td>915</td>\n",
       "      <td>669669.0000</td>\n",
       "    </tr>\n",
       "    <tr>\n",
       "      <th>8</th>\n",
       "      <td>916</td>\n",
       "      <td>878152.2750</td>\n",
       "    </tr>\n",
       "  </tbody>\n",
       "</table>\n",
       "</div>"
      ],
      "text/plain": [
       "   ProductID Total_turnover\n",
       "0        509    798105.0000\n",
       "1        523    592289.7750\n",
       "2        524    759874.5000\n",
       "3        530    451212.3000\n",
       "4        908    707720.4750\n",
       "5        911    823740.2250\n",
       "6        914    464079.0000\n",
       "7        915    669669.0000\n",
       "8        916    878152.2750"
      ]
     },
     "execution_count": 16,
     "metadata": {},
     "output_type": "execute_result"
    }
   ],
   "source": [
    "## Native PANDAS - orders_df is the table\n",
    "# mk the aggregate table w/the total turnover grouped by product\n",
    "df_44 = orders_df.groupby('ProductID').agg(\n",
    "    Total_turnover=pd.NamedAgg(column='LineTotal', aggfunc='sum'))  # -N1-\n",
    "# mk the index as a col to filter and order by Total_turnover or ProductID\n",
    "df_44.reset_index(inplace=True)\n",
    "\n",
    "# Convert sort options to Pandas order params\n",
    "if sort_order == 'ASC':\n",
    "    asc = True\n",
    "elif sort_order == 'DESC':\n",
    "    asc = False\n",
    "\n",
    "# Filter according sorting options\n",
    "df_44 = df_44.loc[(df_44.Total_turnover >= min) & (df_44.Total_turnover <= max)]\\\n",
    "    .sort_values(by=[sort_col], ascending=asc).reset_index()        # -N2-\n",
    "del df_44['index']\n",
    "\n",
    "df_44\n",
    "\n",
    "# -N1-: Can not use {dcol['t'][0]} in place of Total_turnover!?\n",
    "# -N2-: reset_index() to change the pandas table index to a new fresh\n",
    "#   df.index completed with the deletion of df_44['index']\n"
   ]
  },
  {
   "cell_type": "code",
   "execution_count": null,
   "metadata": {},
   "outputs": [],
   "source": []
  },
  {
   "cell_type": "markdown",
   "metadata": {},
   "source": [
    "## 5. Point b. of Q1 and Q2\n",
    "Will be interesting to see characteristics of the productID in this results tables like ProductName and UnitPrice for instance"
   ]
  },
  {
   "cell_type": "code",
   "execution_count": null,
   "metadata": {},
   "outputs": [],
   "source": [
    "# ..."
   ]
  }
 ],
 "metadata": {
  "kernelspec": {
   "display_name": "Python 3",
   "language": "python",
   "name": "python3"
  },
  "language_info": {
   "codemirror_mode": {
    "name": "ipython",
    "version": 3
   },
   "file_extension": ".py",
   "mimetype": "text/x-python",
   "name": "python",
   "nbconvert_exporter": "python",
   "pygments_lexer": "ipython3",
   "version": "3.11.0"
  },
  "orig_nbformat": 4
 },
 "nbformat": 4,
 "nbformat_minor": 2
}
