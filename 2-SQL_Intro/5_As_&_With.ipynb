{
 "cells": [
  {
   "attachments": {},
   "cell_type": "markdown",
   "metadata": {},
   "source": [
    "# CTE: Common Table Expression\n",
    "### WITH ... AS"
   ]
  },
  {
   "cell_type": "code",
   "execution_count": null,
   "metadata": {},
   "outputs": [],
   "source": [
    "query = '''\n",
    "-- Define the CTE expression name and column list.\n",
    "WITH Sales_CTE (SalesPersonID, SalesOrderID, SalesYear)\n",
    "AS\n",
    "-- Define the CTE query.\n",
    "(\n",
    "    SELECT SalesPersonID, SalesOrderID, YEAR(OrderDate) AS SalesYear\n",
    "    FROM Sales.SalesOrderHeader\n",
    "    WHERE SalesPersonID IS NOT NULL\n",
    ")\n",
    "-- Define the outer query referencing the CTE name.\n",
    "SELECT SalesPersonID, COUNT(SalesOrderID) AS TotalSales, SalesYear\n",
    "FROM Sales_CTE\n",
    "GROUP BY SalesYear, SalesPersonID\n",
    "ORDER BY SalesPersonID, SalesYear;\n",
    "'''"
   ]
  },
  {
   "cell_type": "markdown",
   "metadata": {},
   "source": [
    "## MSSQL CTE:\n",
    "- https://learn.microsoft.com/en-us/sql/t-sql/queries/with-common-table-expression-transact-sql?view=sql-server-ver16"
   ]
  }
 ],
 "metadata": {
  "kernelspec": {
   "display_name": "Python 3",
   "language": "python",
   "name": "python3"
  },
  "language_info": {
   "codemirror_mode": {
    "name": "ipython",
    "version": 3
   },
   "file_extension": ".py",
   "mimetype": "text/x-python",
   "name": "python",
   "nbconvert_exporter": "python",
   "pygments_lexer": "ipython3",
   "version": "3.11.0"
  },
  "orig_nbformat": 4
 },
 "nbformat": 4,
 "nbformat_minor": 2
}
