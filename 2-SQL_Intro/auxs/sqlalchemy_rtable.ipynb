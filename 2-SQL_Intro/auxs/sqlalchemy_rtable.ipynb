{
 "cells": [
  {
   "attachments": {},
   "cell_type": "markdown",
   "metadata": {},
   "source": [
    "# Use of SQLAlchemy to try pd.read_sql_table()"
   ]
  },
  {
   "cell_type": "markdown",
   "metadata": {},
   "source": [
    "## First establish the connection conecting w/the DB"
   ]
  },
  {
   "cell_type": "code",
   "execution_count": null,
   "metadata": {},
   "outputs": [],
   "source": [
    "### Connect to the DB - Establish the connection\n",
    "import pyodbc\n",
    "import sqlalchemy as sa\n",
    "import pandas as pd\n",
    "\n",
    "# Valid values for the connection string\n",
    "drv = '{ODBC Driver 17 for SQL Server}'\n",
    "srv = '(local)'\n",
    "dbname = 'AdventureWorks2019'\n",
    "#dbname = 'BikeStores'\n",
    "usr = 'user1'\n",
    "passwd = 'pass1'\n",
    "\n",
    "# Construct the Connection String\n",
    "conn_str = f'DRIVER={drv};SERVER={srv};\\\n",
    "    DATABASE={dbname};UID={usr};PWD={passwd}'\n",
    "print('Connection String:\\n', conn_str)\n",
    "\n",
    "# engine = sa.create_engine(\"mssql+pyodbc:///?odbc_connect=%s\" % conn_str)\n",
    "# cnx = engine.connect()\n",
    "# cur = cnx.cursor()\n",
    "\n",
    "from sqlalchemy.engine import URL\n",
    "connection_string = conn_str\n",
    "#\"DRIVER={SQL Server Native Client 10.0};SERVER=dagger;DATABASE=test;UID=user;PWD=password\"\n",
    "connection_url = URL.create(\"mssql+pyodbc\", query={\"odbc_connect\": connection_string})\n",
    "\n",
    "engine = sa.create_engine(connection_url)\n",
    "conn = engine.connect()\n",
    "\n",
    "# # Establish the connection\n",
    "# try:\n",
    "#     engine = sa.create_engine(\"mssql+pyodbc:///?odbc_connect=%s\" % conn_str)\n",
    "#     cnx = engine.connect()\n",
    "#     #cur = cnx.cursor()  \n",
    "# except Exception as e:\n",
    "#     print('ERROR:', e)\n",
    "# else:\n",
    "#     print('SUCCESS: Connection Established')\n",
    "\n",
    "# df1 = pd.read_sql_table('Product', cnx, schema='Production')\n",
    "# df1"
   ]
  },
  {
   "cell_type": "code",
   "execution_count": null,
   "metadata": {},
   "outputs": [],
   "source": [
    "# ¿Wich SQL?\n",
    "q_1 = ''' SELECT *\n",
    "        FROM INFORMATION_SCHEMA.TABLES;'''\n",
    "# res = conn.execute(q_1)\n",
    "# print(res.fetchall())\n",
    "df1 = pd.read_sql_query(q_1, engine)\n",
    "df1"
   ]
  },
  {
   "cell_type": "code",
   "execution_count": 8,
   "metadata": {},
   "outputs": [],
   "source": [
    "import pandas as pd\n",
    "from sqlalchemy import create_engine\n",
    "engine = create_engine(\n",
    "    'mssql+pyodbc://'\n",
    "    '@./AdventureWorks2019?' # username:pwd@server:port/database\n",
    "    'driver=ODBC+Driver+17+for+SQL+Server'\n",
    "    )"
   ]
  },
  {
   "cell_type": "code",
   "execution_count": null,
   "metadata": {},
   "outputs": [],
   "source": [
    "engine = create_engine(\n",
    "    'mssql+pyodbc://'\n",
    "    '@./AdventureWorks2019?' # username:pwd@server:port/database\n",
    "    'driver=ODBC+Driver+17+for+SQL+Server'\n",
    "    )"
   ]
  },
  {
   "cell_type": "code",
   "execution_count": 9,
   "metadata": {},
   "outputs": [
    {
     "ename": "AttributeError",
     "evalue": "'OptionEngine' object has no attribute 'execute'",
     "output_type": "error",
     "traceback": [
      "\u001b[1;31m---------------------------------------------------------------------------\u001b[0m",
      "\u001b[1;31mAttributeError\u001b[0m                            Traceback (most recent call last)",
      "Cell \u001b[1;32mIn[9], line 1\u001b[0m\n\u001b[1;32m----> 1\u001b[0m df \u001b[39m=\u001b[39m pd\u001b[39m.\u001b[39;49mread_sql(\n\u001b[0;32m      2\u001b[0m       \u001b[39m'\u001b[39;49m\u001b[39mSELECT [CustomerID]\u001b[39;49m\u001b[39m\\\u001b[39;49;00m\n\u001b[0;32m      3\u001b[0m \u001b[39m      ,[PersonID]\u001b[39;49m\u001b[39m\\\u001b[39;49;00m\n\u001b[0;32m      4\u001b[0m \u001b[39m      ,[StoreID]\u001b[39;49m\u001b[39m\\\u001b[39;49;00m\n\u001b[0;32m      5\u001b[0m \u001b[39m      ,[TerritoryID]\u001b[39;49m\u001b[39m\\\u001b[39;49;00m\n\u001b[0;32m      6\u001b[0m \u001b[39m      ,[AccountNumber]\u001b[39;49m\u001b[39m\\\u001b[39;49;00m\n\u001b[0;32m      7\u001b[0m \u001b[39m      ,[ModifiedDate]\u001b[39;49m\u001b[39m\\\u001b[39;49;00m\n\u001b[0;32m      8\u001b[0m \u001b[39m  FROM [Sales].[Customer]\u001b[39;49m\u001b[39m'\u001b[39;49m,\n\u001b[0;32m      9\u001b[0m   engine,\n\u001b[0;32m     10\u001b[0m   index_col\u001b[39m=\u001b[39;49m\u001b[39m'\u001b[39;49m\u001b[39mCustomerID\u001b[39;49m\u001b[39m'\u001b[39;49m)\n",
      "File \u001b[1;32mc:\\Users\\jm\\AppData\\Local\\Programs\\Python\\Python311\\Lib\\site-packages\\pandas\\io\\sql.py:590\u001b[0m, in \u001b[0;36mread_sql\u001b[1;34m(sql, con, index_col, coerce_float, params, parse_dates, columns, chunksize)\u001b[0m\n\u001b[0;32m    581\u001b[0m     \u001b[39mreturn\u001b[39;00m pandas_sql\u001b[39m.\u001b[39mread_table(\n\u001b[0;32m    582\u001b[0m         sql,\n\u001b[0;32m    583\u001b[0m         index_col\u001b[39m=\u001b[39mindex_col,\n\u001b[1;32m   (...)\u001b[0m\n\u001b[0;32m    587\u001b[0m         chunksize\u001b[39m=\u001b[39mchunksize,\n\u001b[0;32m    588\u001b[0m     )\n\u001b[0;32m    589\u001b[0m \u001b[39melse\u001b[39;00m:\n\u001b[1;32m--> 590\u001b[0m     \u001b[39mreturn\u001b[39;00m pandas_sql\u001b[39m.\u001b[39;49mread_query(\n\u001b[0;32m    591\u001b[0m         sql,\n\u001b[0;32m    592\u001b[0m         index_col\u001b[39m=\u001b[39;49mindex_col,\n\u001b[0;32m    593\u001b[0m         params\u001b[39m=\u001b[39;49mparams,\n\u001b[0;32m    594\u001b[0m         coerce_float\u001b[39m=\u001b[39;49mcoerce_float,\n\u001b[0;32m    595\u001b[0m         parse_dates\u001b[39m=\u001b[39;49mparse_dates,\n\u001b[0;32m    596\u001b[0m         chunksize\u001b[39m=\u001b[39;49mchunksize,\n\u001b[0;32m    597\u001b[0m     )\n",
      "File \u001b[1;32mc:\\Users\\jm\\AppData\\Local\\Programs\\Python\\Python311\\Lib\\site-packages\\pandas\\io\\sql.py:1560\u001b[0m, in \u001b[0;36mSQLDatabase.read_query\u001b[1;34m(self, sql, index_col, coerce_float, parse_dates, params, chunksize, dtype)\u001b[0m\n\u001b[0;32m   1512\u001b[0m \u001b[39m\"\"\"\u001b[39;00m\n\u001b[0;32m   1513\u001b[0m \u001b[39mRead SQL query into a DataFrame.\u001b[39;00m\n\u001b[0;32m   1514\u001b[0m \n\u001b[1;32m   (...)\u001b[0m\n\u001b[0;32m   1556\u001b[0m \n\u001b[0;32m   1557\u001b[0m \u001b[39m\"\"\"\u001b[39;00m\n\u001b[0;32m   1558\u001b[0m args \u001b[39m=\u001b[39m _convert_params(sql, params)\n\u001b[1;32m-> 1560\u001b[0m result \u001b[39m=\u001b[39m \u001b[39mself\u001b[39;49m\u001b[39m.\u001b[39;49mexecute(\u001b[39m*\u001b[39;49margs)\n\u001b[0;32m   1561\u001b[0m columns \u001b[39m=\u001b[39m result\u001b[39m.\u001b[39mkeys()\n\u001b[0;32m   1563\u001b[0m \u001b[39mif\u001b[39;00m chunksize \u001b[39mis\u001b[39;00m \u001b[39mnot\u001b[39;00m \u001b[39mNone\u001b[39;00m:\n",
      "File \u001b[1;32mc:\\Users\\jm\\AppData\\Local\\Programs\\Python\\Python311\\Lib\\site-packages\\pandas\\io\\sql.py:1405\u001b[0m, in \u001b[0;36mSQLDatabase.execute\u001b[1;34m(self, *args, **kwargs)\u001b[0m\n\u001b[0;32m   1403\u001b[0m \u001b[39mdef\u001b[39;00m \u001b[39mexecute\u001b[39m(\u001b[39mself\u001b[39m, \u001b[39m*\u001b[39margs, \u001b[39m*\u001b[39m\u001b[39m*\u001b[39mkwargs):\n\u001b[0;32m   1404\u001b[0m     \u001b[39m\"\"\"Simple passthrough to SQLAlchemy connectable\"\"\"\u001b[39;00m\n\u001b[1;32m-> 1405\u001b[0m     \u001b[39mreturn\u001b[39;00m \u001b[39mself\u001b[39;49m\u001b[39m.\u001b[39;49mconnectable\u001b[39m.\u001b[39;49mexecution_options()\u001b[39m.\u001b[39;49mexecute(\u001b[39m*\u001b[39margs, \u001b[39m*\u001b[39m\u001b[39m*\u001b[39mkwargs)\n",
      "\u001b[1;31mAttributeError\u001b[0m: 'OptionEngine' object has no attribute 'execute'"
     ]
    }
   ],
   "source": [
    "df = pd.read_sql(\n",
    "      'SELECT [CustomerID]\\\n",
    "      ,[PersonID]\\\n",
    "      ,[StoreID]\\\n",
    "      ,[TerritoryID]\\\n",
    "      ,[AccountNumber]\\\n",
    "      ,[ModifiedDate]\\\n",
    "  FROM [Sales].[Customer]',\n",
    "  engine,\n",
    "  index_col='CustomerID')"
   ]
  },
  {
   "cell_type": "code",
   "execution_count": null,
   "metadata": {},
   "outputs": [],
   "source": []
  },
  {
   "cell_type": "code",
   "execution_count": null,
   "metadata": {},
   "outputs": [],
   "source": []
  },
  {
   "cell_type": "markdown",
   "metadata": {},
   "source": [
    "- https://www.mssqltips.com/sqlservertip/7324/python-pandas-read-sql-server-data-dataframe/\n",
    "https://datadiaries.dev/connecting-to-microsoft-sql-server-using-sqlalchemy-and-pyodbc\n",
    "- https://docs.sqlalchemy.org/en/14/dialects/mssql.html#dialect-mssql-pyodbc-connect\n",
    "- "
   ]
  },
  {
   "cell_type": "code",
   "execution_count": null,
   "metadata": {},
   "outputs": [],
   "source": []
  }
 ],
 "metadata": {
  "kernelspec": {
   "display_name": "Python 3",
   "language": "python",
   "name": "python3"
  },
  "language_info": {
   "codemirror_mode": {
    "name": "ipython",
    "version": 3
   },
   "file_extension": ".py",
   "mimetype": "text/x-python",
   "name": "python",
   "nbconvert_exporter": "python",
   "pygments_lexer": "ipython3",
   "version": "3.11.0"
  },
  "orig_nbformat": 4
 },
 "nbformat": 4,
 "nbformat_minor": 2
}
