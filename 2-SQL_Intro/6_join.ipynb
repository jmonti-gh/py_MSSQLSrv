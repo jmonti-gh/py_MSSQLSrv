{
 "cells": [
  {
   "cell_type": "markdown",
   "metadata": {},
   "source": [
    "# Joining Data\n",
    "- get data spread across multiple tables."
   ]
  },
  {
   "attachments": {},
   "cell_type": "markdown",
   "metadata": {},
   "source": [
    "### SELECT t1.col_name, col2_ name t2.col_name, col2_name\n",
    "### FROM table1 AS t1\n",
    "### INNER JOIN table2 AS t2\n",
    "###   ON (t1.col_name = t2.col_name)"
   ]
  },
  {
   "cell_type": "markdown",
   "metadata": {},
   "source": [
    "- Join between (only) TWO tables: Purchasing.ProductVendor and Purchasing.Vendor.\n",
    "- As always SQL Query vs Pandas."
   ]
  },
  {
   "cell_type": "markdown",
   "metadata": {},
   "source": [
    "## 1. Establish DB connection and...\n",
    "- def funct. 'df_from_SQL(qry)' to convert SQL Query result to DF (I define df_from_query() function to avoid using pd.read_sql() cause the warning message when using pyodbc).\n",
    "- def funct. 'jm_sample()' to show a fixed sample of the df\n",
    "- Vamos a tener que pensar una función que compare df o directamente que me imprima las diferencias entre dos o más df: df.compare()"
   ]
  },
  {
   "cell_type": "code",
   "execution_count": 28,
   "metadata": {},
   "outputs": [
    {
     "name": "stdout",
     "output_type": "stream",
     "text": [
      "Connection String:\n",
      " DRIVER={ODBC Driver 17 for SQL Server};SERVER=(local);    DATABASE=AdventureWorks2019;UID=user1;PWD=pass1\n",
      "SUCCESS: Connection Established\n"
     ]
    }
   ],
   "source": [
    "### Connect to the DB - Establish the connection\n",
    "import pyodbc\n",
    "\n",
    "# Valid values for the connection string\n",
    "driver = '{ODBC Driver 17 for SQL Server}'\n",
    "server = '(local)'\n",
    "dbname = 'AdventureWorks2019'\n",
    "user = 'user1'\n",
    "passwd = 'pass1'\n",
    "\n",
    "# Construct the Connection String\n",
    "connection_string = f'DRIVER={driver};SERVER={server};\\\n",
    "    DATABASE={dbname};UID={user};PWD={passwd}'\n",
    "print('Connection String:\\n', connection_string)\n",
    "\n",
    "# Establish the connection\n",
    "try:\n",
    "    cnx = pyodbc.connect(connection_string)\n",
    "    cur = cnx.cursor()\n",
    "except pyodbc.Error as e:\n",
    "    print('ERROR:', e)\n",
    "else:\n",
    "    print('SUCCESS: Connection Established')\n",
    "\n",
    "# mk function to convert SQL queries to DF\n",
    "import pandas as pd\n",
    "\n",
    "def df_from_query(qry):     # convert cursor.execute(query) to DF\n",
    "    cur.execute(qry)\n",
    "    field_names = [i[0] for i in cur.description]\n",
    "    get_data = [list(x) for x in cur]\n",
    "    df = pd.DataFrame(data=get_data, columns=field_names)\n",
    "    return df\n",
    "\n",
    "def df_view(df, n=6):\n",
    "    l6 = [0, 4, 9, -9, -5, -1]\n",
    "    l4 = [0, 2, -3, -1]\n",
    "    if n == 6:\n",
    "        lst = l6\n",
    "    else:\n",
    "        lst = l4\n",
    "\n",
    "    display(df.info())\n",
    "    display(df.iloc[[0, 4, 9, -9, -5, -1]])\n"
   ]
  },
  {
   "cell_type": "markdown",
   "metadata": {},
   "source": [
    "## 2. Get both tables as a DF: t1_df, t2_df\n",
    "- To apply native pandas code i need tables as dfs."
   ]
  },
  {
   "cell_type": "code",
   "execution_count": 29,
   "metadata": {},
   "outputs": [
    {
     "name": "stdout",
     "output_type": "stream",
     "text": [
      "<class 'pandas.core.frame.DataFrame'>\n",
      "RangeIndex: 460 entries, 0 to 459\n",
      "Data columns (total 11 columns):\n",
      " #   Column            Non-Null Count  Dtype         \n",
      "---  ------            --------------  -----         \n",
      " 0   ProductID         460 non-null    int64         \n",
      " 1   BusinessEntityID  460 non-null    int64         \n",
      " 2   AverageLeadTime   460 non-null    int64         \n",
      " 3   StandardPrice     460 non-null    object        \n",
      " 4   LastReceiptCost   460 non-null    object        \n",
      " 5   LastReceiptDate   460 non-null    datetime64[ns]\n",
      " 6   MinOrderQty       460 non-null    int64         \n",
      " 7   MaxOrderQty       460 non-null    int64         \n",
      " 8   OnOrderQty        155 non-null    float64       \n",
      " 9   UnitMeasureCode   460 non-null    object        \n",
      " 10  ModifiedDate      460 non-null    datetime64[ns]\n",
      "dtypes: datetime64[ns](2), float64(1), int64(5), object(3)\n",
      "memory usage: 39.7+ KB\n"
     ]
    },
    {
     "data": {
      "text/plain": [
       "None"
      ]
     },
     "metadata": {},
     "output_type": "display_data"
    },
    {
     "data": {
      "text/html": [
       "<div>\n",
       "<style scoped>\n",
       "    .dataframe tbody tr th:only-of-type {\n",
       "        vertical-align: middle;\n",
       "    }\n",
       "\n",
       "    .dataframe tbody tr th {\n",
       "        vertical-align: top;\n",
       "    }\n",
       "\n",
       "    .dataframe thead th {\n",
       "        text-align: right;\n",
       "    }\n",
       "</style>\n",
       "<table border=\"1\" class=\"dataframe\">\n",
       "  <thead>\n",
       "    <tr style=\"text-align: right;\">\n",
       "      <th></th>\n",
       "      <th>ProductID</th>\n",
       "      <th>BusinessEntityID</th>\n",
       "      <th>AverageLeadTime</th>\n",
       "      <th>StandardPrice</th>\n",
       "      <th>LastReceiptCost</th>\n",
       "      <th>LastReceiptDate</th>\n",
       "      <th>MinOrderQty</th>\n",
       "      <th>MaxOrderQty</th>\n",
       "      <th>OnOrderQty</th>\n",
       "      <th>UnitMeasureCode</th>\n",
       "      <th>ModifiedDate</th>\n",
       "    </tr>\n",
       "  </thead>\n",
       "  <tbody>\n",
       "    <tr>\n",
       "      <th>0</th>\n",
       "      <td>1</td>\n",
       "      <td>1580</td>\n",
       "      <td>17</td>\n",
       "      <td>47.8700</td>\n",
       "      <td>50.2635</td>\n",
       "      <td>2011-08-29</td>\n",
       "      <td>1</td>\n",
       "      <td>5</td>\n",
       "      <td>3.0</td>\n",
       "      <td>CS</td>\n",
       "      <td>2011-08-29</td>\n",
       "    </tr>\n",
       "    <tr>\n",
       "      <th>4</th>\n",
       "      <td>317</td>\n",
       "      <td>1678</td>\n",
       "      <td>17</td>\n",
       "      <td>25.7700</td>\n",
       "      <td>27.0585</td>\n",
       "      <td>2011-08-25</td>\n",
       "      <td>100</td>\n",
       "      <td>1000</td>\n",
       "      <td>NaN</td>\n",
       "      <td>EA</td>\n",
       "      <td>2011-08-25</td>\n",
       "    </tr>\n",
       "    <tr>\n",
       "      <th>9</th>\n",
       "      <td>319</td>\n",
       "      <td>1678</td>\n",
       "      <td>17</td>\n",
       "      <td>43.8700</td>\n",
       "      <td>46.0635</td>\n",
       "      <td>2011-08-25</td>\n",
       "      <td>100</td>\n",
       "      <td>1000</td>\n",
       "      <td>NaN</td>\n",
       "      <td>EA</td>\n",
       "      <td>2011-08-25</td>\n",
       "    </tr>\n",
       "    <tr>\n",
       "      <th>451</th>\n",
       "      <td>937</td>\n",
       "      <td>1638</td>\n",
       "      <td>18</td>\n",
       "      <td>59.9900</td>\n",
       "      <td>62.9895</td>\n",
       "      <td>2011-08-27</td>\n",
       "      <td>100</td>\n",
       "      <td>1000</td>\n",
       "      <td>300.0</td>\n",
       "      <td>EA</td>\n",
       "      <td>2011-08-27</td>\n",
       "    </tr>\n",
       "    <tr>\n",
       "      <th>455</th>\n",
       "      <td>939</td>\n",
       "      <td>1680</td>\n",
       "      <td>16</td>\n",
       "      <td>45.9900</td>\n",
       "      <td>48.2895</td>\n",
       "      <td>2011-08-27</td>\n",
       "      <td>100</td>\n",
       "      <td>1000</td>\n",
       "      <td>NaN</td>\n",
       "      <td>EA</td>\n",
       "      <td>2011-08-27</td>\n",
       "    </tr>\n",
       "    <tr>\n",
       "      <th>459</th>\n",
       "      <td>952</td>\n",
       "      <td>1674</td>\n",
       "      <td>19</td>\n",
       "      <td>14.9900</td>\n",
       "      <td>15.7395</td>\n",
       "      <td>2011-08-29</td>\n",
       "      <td>20</td>\n",
       "      <td>100</td>\n",
       "      <td>60.0</td>\n",
       "      <td>DZ</td>\n",
       "      <td>2011-08-29</td>\n",
       "    </tr>\n",
       "  </tbody>\n",
       "</table>\n",
       "</div>"
      ],
      "text/plain": [
       "     ProductID  BusinessEntityID  AverageLeadTime StandardPrice  \\\n",
       "0            1              1580               17       47.8700   \n",
       "4          317              1678               17       25.7700   \n",
       "9          319              1678               17       43.8700   \n",
       "451        937              1638               18       59.9900   \n",
       "455        939              1680               16       45.9900   \n",
       "459        952              1674               19       14.9900   \n",
       "\n",
       "    LastReceiptCost LastReceiptDate  MinOrderQty  MaxOrderQty  OnOrderQty  \\\n",
       "0           50.2635      2011-08-29            1            5         3.0   \n",
       "4           27.0585      2011-08-25          100         1000         NaN   \n",
       "9           46.0635      2011-08-25          100         1000         NaN   \n",
       "451         62.9895      2011-08-27          100         1000       300.0   \n",
       "455         48.2895      2011-08-27          100         1000         NaN   \n",
       "459         15.7395      2011-08-29           20          100        60.0   \n",
       "\n",
       "    UnitMeasureCode ModifiedDate  \n",
       "0               CS    2011-08-29  \n",
       "4               EA    2011-08-25  \n",
       "9               EA    2011-08-25  \n",
       "451             EA    2011-08-27  \n",
       "455             EA    2011-08-27  \n",
       "459             DZ    2011-08-29  "
      ]
     },
     "metadata": {},
     "output_type": "display_data"
    }
   ],
   "source": [
    "query = ''' SELECT * FROM Purchasing.ProductVendor'''\n",
    "t1_df = df_from_query(query)\n",
    "\n",
    "df_view(t1_df)"
   ]
  },
  {
   "cell_type": "code",
   "execution_count": 30,
   "metadata": {},
   "outputs": [
    {
     "name": "stdout",
     "output_type": "stream",
     "text": [
      "<class 'pandas.core.frame.DataFrame'>\n",
      "RangeIndex: 104 entries, 0 to 103\n",
      "Data columns (total 8 columns):\n",
      " #   Column                   Non-Null Count  Dtype         \n",
      "---  ------                   --------------  -----         \n",
      " 0   BusinessEntityID         104 non-null    int64         \n",
      " 1   AccountNumber            104 non-null    object        \n",
      " 2   Name                     104 non-null    object        \n",
      " 3   CreditRating             104 non-null    int64         \n",
      " 4   PreferredVendorStatus    104 non-null    bool          \n",
      " 5   ActiveFlag               104 non-null    bool          \n",
      " 6   PurchasingWebServiceURL  6 non-null      object        \n",
      " 7   ModifiedDate             104 non-null    datetime64[ns]\n",
      "dtypes: bool(2), datetime64[ns](1), int64(2), object(3)\n",
      "memory usage: 5.2+ KB\n"
     ]
    },
    {
     "data": {
      "text/plain": [
       "None"
      ]
     },
     "metadata": {},
     "output_type": "display_data"
    },
    {
     "data": {
      "text/html": [
       "<div>\n",
       "<style scoped>\n",
       "    .dataframe tbody tr th:only-of-type {\n",
       "        vertical-align: middle;\n",
       "    }\n",
       "\n",
       "    .dataframe tbody tr th {\n",
       "        vertical-align: top;\n",
       "    }\n",
       "\n",
       "    .dataframe thead th {\n",
       "        text-align: right;\n",
       "    }\n",
       "</style>\n",
       "<table border=\"1\" class=\"dataframe\">\n",
       "  <thead>\n",
       "    <tr style=\"text-align: right;\">\n",
       "      <th></th>\n",
       "      <th>BusinessEntityID</th>\n",
       "      <th>AccountNumber</th>\n",
       "      <th>Name</th>\n",
       "      <th>CreditRating</th>\n",
       "      <th>PreferredVendorStatus</th>\n",
       "      <th>ActiveFlag</th>\n",
       "      <th>PurchasingWebServiceURL</th>\n",
       "      <th>ModifiedDate</th>\n",
       "    </tr>\n",
       "  </thead>\n",
       "  <tbody>\n",
       "    <tr>\n",
       "      <th>0</th>\n",
       "      <td>1492</td>\n",
       "      <td>AUSTRALI0001</td>\n",
       "      <td>Australia Bike Retailer</td>\n",
       "      <td>1</td>\n",
       "      <td>True</td>\n",
       "      <td>True</td>\n",
       "      <td>None</td>\n",
       "      <td>2011-12-23</td>\n",
       "    </tr>\n",
       "    <tr>\n",
       "      <th>4</th>\n",
       "      <td>1500</td>\n",
       "      <td>MORGANB0001</td>\n",
       "      <td>Morgan Bike Accessories</td>\n",
       "      <td>1</td>\n",
       "      <td>True</td>\n",
       "      <td>True</td>\n",
       "      <td>None</td>\n",
       "      <td>2012-02-02</td>\n",
       "    </tr>\n",
       "    <tr>\n",
       "      <th>9</th>\n",
       "      <td>1510</td>\n",
       "      <td>INTERNAT0001</td>\n",
       "      <td>International</td>\n",
       "      <td>1</td>\n",
       "      <td>True</td>\n",
       "      <td>True</td>\n",
       "      <td>None</td>\n",
       "      <td>2012-01-25</td>\n",
       "    </tr>\n",
       "    <tr>\n",
       "      <th>95</th>\n",
       "      <td>1682</td>\n",
       "      <td>PREMIER0001</td>\n",
       "      <td>Premier Sport, Inc.</td>\n",
       "      <td>1</td>\n",
       "      <td>True</td>\n",
       "      <td>True</td>\n",
       "      <td>None</td>\n",
       "      <td>2012-02-02</td>\n",
       "    </tr>\n",
       "    <tr>\n",
       "      <th>99</th>\n",
       "      <td>1690</td>\n",
       "      <td>BLOOMING0001</td>\n",
       "      <td>Bloomington Multisport</td>\n",
       "      <td>1</td>\n",
       "      <td>True</td>\n",
       "      <td>True</td>\n",
       "      <td>None</td>\n",
       "      <td>2011-12-23</td>\n",
       "    </tr>\n",
       "    <tr>\n",
       "      <th>103</th>\n",
       "      <td>1698</td>\n",
       "      <td>BUSINESS0001</td>\n",
       "      <td>Business Equipment Center</td>\n",
       "      <td>2</td>\n",
       "      <td>True</td>\n",
       "      <td>True</td>\n",
       "      <td>None</td>\n",
       "      <td>2011-12-23</td>\n",
       "    </tr>\n",
       "  </tbody>\n",
       "</table>\n",
       "</div>"
      ],
      "text/plain": [
       "     BusinessEntityID AccountNumber                       Name  CreditRating  \\\n",
       "0                1492  AUSTRALI0001    Australia Bike Retailer             1   \n",
       "4                1500   MORGANB0001    Morgan Bike Accessories             1   \n",
       "9                1510  INTERNAT0001              International             1   \n",
       "95               1682   PREMIER0001        Premier Sport, Inc.             1   \n",
       "99               1690  BLOOMING0001     Bloomington Multisport             1   \n",
       "103              1698  BUSINESS0001  Business Equipment Center             2   \n",
       "\n",
       "     PreferredVendorStatus  ActiveFlag PurchasingWebServiceURL ModifiedDate  \n",
       "0                     True        True                    None   2011-12-23  \n",
       "4                     True        True                    None   2012-02-02  \n",
       "9                     True        True                    None   2012-01-25  \n",
       "95                    True        True                    None   2012-02-02  \n",
       "99                    True        True                    None   2011-12-23  \n",
       "103                   True        True                    None   2011-12-23  "
      ]
     },
     "metadata": {},
     "output_type": "display_data"
    }
   ],
   "source": [
    "query = ''' SELECT * FROM Purchasing.Vendor'''\n",
    "t2_df = df_from_query(query)\n",
    "\n",
    "df_view(t2_df)"
   ]
  },
  {
   "cell_type": "markdown",
   "metadata": {},
   "source": [
    "## 3. First Question - First JOIN\n",
    "- What are the supplier name of the products?"
   ]
  },
  {
   "cell_type": "markdown",
   "metadata": {},
   "source": [
    "### 3.1. SQL direct to the DB"
   ]
  },
  {
   "cell_type": "code",
   "execution_count": 31,
   "metadata": {},
   "outputs": [
    {
     "name": "stdout",
     "output_type": "stream",
     "text": [
      "<class 'pandas.core.frame.DataFrame'>\n",
      "RangeIndex: 460 entries, 0 to 459\n",
      "Data columns (total 4 columns):\n",
      " #   Column            Non-Null Count  Dtype \n",
      "---  ------            --------------  ----- \n",
      " 0   ProductID         460 non-null    int64 \n",
      " 1   StandardPrice     460 non-null    object\n",
      " 2   BusinessEntityID  460 non-null    int64 \n",
      " 3   Name              460 non-null    object\n",
      "dtypes: int64(2), object(2)\n",
      "memory usage: 14.5+ KB\n"
     ]
    },
    {
     "data": {
      "text/plain": [
       "None"
      ]
     },
     "metadata": {},
     "output_type": "display_data"
    },
    {
     "data": {
      "text/html": [
       "<div>\n",
       "<style scoped>\n",
       "    .dataframe tbody tr th:only-of-type {\n",
       "        vertical-align: middle;\n",
       "    }\n",
       "\n",
       "    .dataframe tbody tr th {\n",
       "        vertical-align: top;\n",
       "    }\n",
       "\n",
       "    .dataframe thead th {\n",
       "        text-align: right;\n",
       "    }\n",
       "</style>\n",
       "<table border=\"1\" class=\"dataframe\">\n",
       "  <thead>\n",
       "    <tr style=\"text-align: right;\">\n",
       "      <th></th>\n",
       "      <th>ProductID</th>\n",
       "      <th>StandardPrice</th>\n",
       "      <th>BusinessEntityID</th>\n",
       "      <th>Name</th>\n",
       "    </tr>\n",
       "  </thead>\n",
       "  <tbody>\n",
       "    <tr>\n",
       "      <th>0</th>\n",
       "      <td>1</td>\n",
       "      <td>47.8700</td>\n",
       "      <td>1580</td>\n",
       "      <td>Litware, Inc.</td>\n",
       "    </tr>\n",
       "    <tr>\n",
       "      <th>4</th>\n",
       "      <td>317</td>\n",
       "      <td>25.7700</td>\n",
       "      <td>1678</td>\n",
       "      <td>Proseware, Inc.</td>\n",
       "    </tr>\n",
       "    <tr>\n",
       "      <th>9</th>\n",
       "      <td>319</td>\n",
       "      <td>43.8700</td>\n",
       "      <td>1678</td>\n",
       "      <td>Proseware, Inc.</td>\n",
       "    </tr>\n",
       "    <tr>\n",
       "      <th>451</th>\n",
       "      <td>937</td>\n",
       "      <td>59.9900</td>\n",
       "      <td>1638</td>\n",
       "      <td>Inline Accessories</td>\n",
       "    </tr>\n",
       "    <tr>\n",
       "      <th>455</th>\n",
       "      <td>939</td>\n",
       "      <td>45.9900</td>\n",
       "      <td>1680</td>\n",
       "      <td>Jackson Authority</td>\n",
       "    </tr>\n",
       "    <tr>\n",
       "      <th>459</th>\n",
       "      <td>952</td>\n",
       "      <td>14.9900</td>\n",
       "      <td>1674</td>\n",
       "      <td>Varsity Sport Co.</td>\n",
       "    </tr>\n",
       "  </tbody>\n",
       "</table>\n",
       "</div>"
      ],
      "text/plain": [
       "     ProductID StandardPrice  BusinessEntityID                Name\n",
       "0            1       47.8700              1580       Litware, Inc.\n",
       "4          317       25.7700              1678     Proseware, Inc.\n",
       "9          319       43.8700              1678     Proseware, Inc.\n",
       "451        937       59.9900              1638  Inline Accessories\n",
       "455        939       45.9900              1680   Jackson Authority\n",
       "459        952       14.9900              1674   Varsity Sport Co."
      ]
     },
     "metadata": {},
     "output_type": "display_data"
    }
   ],
   "source": [
    "q31 = ''' SELECT t1.ProductID, StandardPrice, t2.BusinessEntityID, Name\n",
    "        FROM Purchasing.ProductVendor AS t1\n",
    "        INNER JOIN Purchasing.Vendor AS t2\n",
    "            ON (t1.BusinessEntityID = t2.BusinessEntityID)'''\n",
    "q31_df = df_from_query(q31)\n",
    "\n",
    "df_view(q31_df)"
   ]
  },
  {
   "cell_type": "markdown",
   "metadata": {},
   "source": [
    "## 3.2. Native Pandas, (I saw) three tools: \n",
    "1. join: combining data on a column or index. - Is an 'instance method': df.join()\n",
    "2. merge: combining data on common columns or indices. - Is a 'module function': pd.merge()\n",
    "3. concat: combining data across rows or columns. - Module Function. Simpler way to combine (add) datasets by rows or by columns (axis='columnns)\n",
    "- https://realpython.com/pandas-merge-join-and-concat/"
   ]
  },
  {
   "cell_type": "code",
   "execution_count": 32,
   "metadata": {},
   "outputs": [
    {
     "name": "stdout",
     "output_type": "stream",
     "text": [
      "SQL result equal df.join() result: True\n",
      "\n",
      "<class 'pandas.core.frame.DataFrame'>\n",
      "RangeIndex: 460 entries, 0 to 459\n",
      "Data columns (total 4 columns):\n",
      " #   Column            Non-Null Count  Dtype \n",
      "---  ------            --------------  ----- \n",
      " 0   ProductID         460 non-null    int64 \n",
      " 1   StandardPrice     460 non-null    object\n",
      " 2   BusinessEntityID  460 non-null    int64 \n",
      " 3   Name              460 non-null    object\n",
      "dtypes: int64(2), object(2)\n",
      "memory usage: 14.5+ KB\n"
     ]
    },
    {
     "data": {
      "text/plain": [
       "None"
      ]
     },
     "metadata": {},
     "output_type": "display_data"
    },
    {
     "data": {
      "text/html": [
       "<div>\n",
       "<style scoped>\n",
       "    .dataframe tbody tr th:only-of-type {\n",
       "        vertical-align: middle;\n",
       "    }\n",
       "\n",
       "    .dataframe tbody tr th {\n",
       "        vertical-align: top;\n",
       "    }\n",
       "\n",
       "    .dataframe thead th {\n",
       "        text-align: right;\n",
       "    }\n",
       "</style>\n",
       "<table border=\"1\" class=\"dataframe\">\n",
       "  <thead>\n",
       "    <tr style=\"text-align: right;\">\n",
       "      <th></th>\n",
       "      <th>ProductID</th>\n",
       "      <th>StandardPrice</th>\n",
       "      <th>BusinessEntityID</th>\n",
       "      <th>Name</th>\n",
       "    </tr>\n",
       "  </thead>\n",
       "  <tbody>\n",
       "    <tr>\n",
       "      <th>0</th>\n",
       "      <td>1</td>\n",
       "      <td>47.8700</td>\n",
       "      <td>1580</td>\n",
       "      <td>Litware, Inc.</td>\n",
       "    </tr>\n",
       "    <tr>\n",
       "      <th>4</th>\n",
       "      <td>317</td>\n",
       "      <td>25.7700</td>\n",
       "      <td>1678</td>\n",
       "      <td>Proseware, Inc.</td>\n",
       "    </tr>\n",
       "    <tr>\n",
       "      <th>9</th>\n",
       "      <td>319</td>\n",
       "      <td>43.8700</td>\n",
       "      <td>1678</td>\n",
       "      <td>Proseware, Inc.</td>\n",
       "    </tr>\n",
       "    <tr>\n",
       "      <th>451</th>\n",
       "      <td>937</td>\n",
       "      <td>59.9900</td>\n",
       "      <td>1638</td>\n",
       "      <td>Inline Accessories</td>\n",
       "    </tr>\n",
       "    <tr>\n",
       "      <th>455</th>\n",
       "      <td>939</td>\n",
       "      <td>45.9900</td>\n",
       "      <td>1680</td>\n",
       "      <td>Jackson Authority</td>\n",
       "    </tr>\n",
       "    <tr>\n",
       "      <th>459</th>\n",
       "      <td>952</td>\n",
       "      <td>14.9900</td>\n",
       "      <td>1674</td>\n",
       "      <td>Varsity Sport Co.</td>\n",
       "    </tr>\n",
       "  </tbody>\n",
       "</table>\n",
       "</div>"
      ],
      "text/plain": [
       "     ProductID StandardPrice  BusinessEntityID                Name\n",
       "0            1       47.8700              1580       Litware, Inc.\n",
       "4          317       25.7700              1678     Proseware, Inc.\n",
       "9          319       43.8700              1678     Proseware, Inc.\n",
       "451        937       59.9900              1638  Inline Accessories\n",
       "455        939       45.9900              1680   Jackson Authority\n",
       "459        952       14.9900              1674   Varsity Sport Co."
      ]
     },
     "metadata": {},
     "output_type": "display_data"
    }
   ],
   "source": [
    "## df.join()\n",
    "dfi = t1_df.join(\n",
    "    t2_df.set_index(['BusinessEntityID']),\n",
    "    on=['BusinessEntityID'],\n",
    "    how='inner',\n",
    "    lsuffix='_t1',\n",
    "    rsuffix='_t2')[['ProductID', 'StandardPrice', 'BusinessEntityID',\n",
    "                    'Name']].sort_values(by=['ProductID', 'BusinessEntityID'])\n",
    "\n",
    "q32_1_df = dfi.reset_index(drop=True)\n",
    "\n",
    "print(f'''SQL result equal df.join() result: {q31_df.equals(q32_1_df)}\\n''')\n",
    "# wo/.sort_values() the result data IS THE SAME but diff. row order\n",
    "#print(q31_df.compare(q32_1_df))\n",
    "\n",
    "df_view(q32_1_df)"
   ]
  },
  {
   "cell_type": "code",
   "execution_count": 33,
   "metadata": {},
   "outputs": [
    {
     "name": "stdout",
     "output_type": "stream",
     "text": [
      "True\n",
      "Empty DataFrame\n",
      "Columns: []\n",
      "Index: []\n"
     ]
    }
   ],
   "source": [
    "## pd.merge()\n",
    "q32_2_df = pd.merge(t1_df, t2_df,\n",
    "         on=['BusinessEntityID'])[['ProductID', 'StandardPrice',\n",
    "                                   'BusinessEntityID', 'Name']]\n",
    "\n",
    "q32_2_df.sort_values(by=['ProductID', 'BusinessEntityID'], inplace=True)\n",
    "q32_2_df.reset_index(drop=True, inplace=True)\n",
    "print(q31_df.equals(q32_2_df))\n",
    "print(q31_df.compare(q32_2_df))\n"
   ]
  },
  {
   "cell_type": "markdown",
   "metadata": {},
   "source": [
    "## 4. Second Question\n",
    "- return the product and supplier information for any combination of parts supplied by a company for which the company name starts with the letter F and the price of the product is more than $10."
   ]
  },
  {
   "cell_type": "markdown",
   "metadata": {},
   "source": [
    "### 4.1. Direct SQL to DB"
   ]
  },
  {
   "cell_type": "code",
   "execution_count": 34,
   "metadata": {},
   "outputs": [
    {
     "name": "stdout",
     "output_type": "stream",
     "text": [
      "<class 'pandas.core.frame.DataFrame'>\n",
      "RangeIndex: 12 entries, 0 to 11\n",
      "Data columns (total 4 columns):\n",
      " #   Column            Non-Null Count  Dtype \n",
      "---  ------            --------------  ----- \n",
      " 0   ProductID         12 non-null     int64 \n",
      " 1   StandardPrice     12 non-null     object\n",
      " 2   BusinessEntityID  12 non-null     int64 \n",
      " 3   SupplierName      12 non-null     object\n",
      "dtypes: int64(2), object(2)\n",
      "memory usage: 512.0+ bytes\n"
     ]
    },
    {
     "data": {
      "text/plain": [
       "None"
      ]
     },
     "metadata": {},
     "output_type": "display_data"
    },
    {
     "data": {
      "text/html": [
       "<div>\n",
       "<style scoped>\n",
       "    .dataframe tbody tr th:only-of-type {\n",
       "        vertical-align: middle;\n",
       "    }\n",
       "\n",
       "    .dataframe tbody tr th {\n",
       "        vertical-align: top;\n",
       "    }\n",
       "\n",
       "    .dataframe thead th {\n",
       "        text-align: right;\n",
       "    }\n",
       "</style>\n",
       "<table border=\"1\" class=\"dataframe\">\n",
       "  <thead>\n",
       "    <tr style=\"text-align: right;\">\n",
       "      <th></th>\n",
       "      <th>ProductID</th>\n",
       "      <th>StandardPrice</th>\n",
       "      <th>BusinessEntityID</th>\n",
       "      <th>SupplierName</th>\n",
       "    </tr>\n",
       "  </thead>\n",
       "  <tbody>\n",
       "    <tr>\n",
       "      <th>0</th>\n",
       "      <td>908</td>\n",
       "      <td>20.0900</td>\n",
       "      <td>1570</td>\n",
       "      <td>First Rate Bicycles</td>\n",
       "    </tr>\n",
       "    <tr>\n",
       "      <th>4</th>\n",
       "      <td>850</td>\n",
       "      <td>24.7500</td>\n",
       "      <td>1594</td>\n",
       "      <td>Fitness Association</td>\n",
       "    </tr>\n",
       "    <tr>\n",
       "      <th>9</th>\n",
       "      <td>855</td>\n",
       "      <td>38.5000</td>\n",
       "      <td>1594</td>\n",
       "      <td>Fitness Association</td>\n",
       "    </tr>\n",
       "    <tr>\n",
       "      <th>3</th>\n",
       "      <td>849</td>\n",
       "      <td>24.7500</td>\n",
       "      <td>1594</td>\n",
       "      <td>Fitness Association</td>\n",
       "    </tr>\n",
       "    <tr>\n",
       "      <th>7</th>\n",
       "      <td>853</td>\n",
       "      <td>32.3500</td>\n",
       "      <td>1594</td>\n",
       "      <td>Fitness Association</td>\n",
       "    </tr>\n",
       "    <tr>\n",
       "      <th>11</th>\n",
       "      <td>857</td>\n",
       "      <td>37.5000</td>\n",
       "      <td>1594</td>\n",
       "      <td>Fitness Association</td>\n",
       "    </tr>\n",
       "  </tbody>\n",
       "</table>\n",
       "</div>"
      ],
      "text/plain": [
       "    ProductID StandardPrice  BusinessEntityID         SupplierName\n",
       "0         908       20.0900              1570  First Rate Bicycles\n",
       "4         850       24.7500              1594  Fitness Association\n",
       "9         855       38.5000              1594  Fitness Association\n",
       "3         849       24.7500              1594  Fitness Association\n",
       "7         853       32.3500              1594  Fitness Association\n",
       "11        857       37.5000              1594  Fitness Association"
      ]
     },
     "metadata": {},
     "output_type": "display_data"
    }
   ],
   "source": [
    "q41 = ''' SELECT t1.ProductID, t1.StandardPrice, t2.BusinessEntityID, t2.Name AS SupplierName\n",
    "          FROM Purchasing.ProductVendor AS t1\n",
    "          INNER JOIN Purchasing.Vendor AS t2\n",
    "            ON (t1.BusinessEntityID = t2.BusinessEntityID)\n",
    "          WHERE StandardPrice > $10 AND Name LIKE N'F%'; '''\n",
    "q41_df = df_from_query(q41)\n",
    "df_view(q41_df)"
   ]
  },
  {
   "cell_type": "markdown",
   "metadata": {},
   "source": [
    "## 4.2 Pandas df.join() and pd.merge()"
   ]
  },
  {
   "cell_type": "code",
   "execution_count": 35,
   "metadata": {},
   "outputs": [
    {
     "data": {
      "text/plain": [
       "True"
      ]
     },
     "execution_count": 35,
     "metadata": {},
     "output_type": "execute_result"
    }
   ],
   "source": [
    "## df.join()\n",
    "dfi = t1_df.join(\n",
    "    t2_df.set_index(['BusinessEntityID']),\n",
    "    on=['BusinessEntityID'],\n",
    "    how='inner',\n",
    "    lsuffix='_t1',\n",
    "    rsuffix='_t2')[['ProductID', 'StandardPrice', 'BusinessEntityID',\n",
    "                    'Name']].rename(columns={'Name': 'SupplierName'})\n",
    "\n",
    "q42_1_df = dfi[(dfi.StandardPrice > 10) &\n",
    "              (dfi.SupplierName.str.startswith('F'))].sort_values(by='SupplierName')\n",
    "q42_1_df.reset_index(drop=True, inplace=True)\n",
    "\n",
    "#df_view(q42_1_df)\n",
    "q41_df.equals(q42_1_df)\n"
   ]
  },
  {
   "cell_type": "code",
   "execution_count": 36,
   "metadata": {},
   "outputs": [
    {
     "name": "stdout",
     "output_type": "stream",
     "text": [
      "True\n",
      "Empty DataFrame\n",
      "Columns: []\n",
      "Index: []\n"
     ]
    }
   ],
   "source": [
    "## pd.merge()\n",
    "q42_2_df = pd.merge(t1_df, t2_df,\n",
    "         on=['BusinessEntityID'])[['ProductID', 'StandardPrice',\n",
    "                                   'BusinessEntityID', 'Name']]\n",
    "\n",
    "q32_2_df.sort_values(by=['ProductID', 'BusinessEntityID'], inplace=True)\n",
    "q32_2_df.reset_index(drop=True, inplace=True)\n",
    "print(q31_df.equals(q32_2_df))\n",
    "print(q31_df.compare(q32_2_df))"
   ]
  },
  {
   "cell_type": "code",
   "execution_count": 37,
   "metadata": {},
   "outputs": [
    {
     "data": {
      "text/plain": [
       "True"
      ]
     },
     "execution_count": 37,
     "metadata": {},
     "output_type": "execute_result"
    }
   ],
   "source": [
    "dfi2 = t1_df.merge(t2_df, on=['BusinessEntityID'],\n",
    "                   how='inner')[['ProductID', 'StandardPrice','BusinessEntityID',\n",
    "                                 'Name']].rename(columns={'Name': 'SupplierName'})\n",
    "\n",
    "q42_2_df = dfi2[(dfi2.StandardPrice > 10) &\n",
    "                (dfi2.SupplierName.str.startswith('F'))].sort_values(by='SupplierName')\n",
    "q42_2_df.reset_index(drop=True, inplace=True)\n",
    "\n",
    "#df_view(q42_1_df)\n",
    "q41_df.equals(q42_2_df)"
   ]
  },
  {
   "cell_type": "markdown",
   "metadata": {},
   "source": [
    "## 5. Third Question\n",
    "- ¿How many products per Supplier?\n",
    "- write a query that uses information in both tables to determine how many products were supplied by each supplier.\n",
    "- Es simple cuento cuantos SupplierName tengo en el join agrupados por SupplierName porque c/linea de ese resultado es un producto"
   ]
  },
  {
   "cell_type": "markdown",
   "metadata": {},
   "source": [
    "## 5.1. Direct SQL to the DB"
   ]
  },
  {
   "cell_type": "code",
   "execution_count": 42,
   "metadata": {},
   "outputs": [
    {
     "name": "stdout",
     "output_type": "stream",
     "text": [
      "<class 'pandas.core.frame.DataFrame'>\n",
      "RangeIndex: 86 entries, 0 to 85\n",
      "Data columns (total 2 columns):\n",
      " #   Column          Non-Null Count  Dtype \n",
      "---  ------          --------------  ----- \n",
      " 0   SupplierName    86 non-null     object\n",
      " 1   ProductsNumber  86 non-null     int64 \n",
      "dtypes: int64(1), object(1)\n",
      "memory usage: 1.5+ KB\n"
     ]
    },
    {
     "data": {
      "text/plain": [
       "None"
      ]
     },
     "metadata": {},
     "output_type": "display_data"
    },
    {
     "data": {
      "text/html": [
       "<div>\n",
       "<style scoped>\n",
       "    .dataframe tbody tr th:only-of-type {\n",
       "        vertical-align: middle;\n",
       "    }\n",
       "\n",
       "    .dataframe tbody tr th {\n",
       "        vertical-align: top;\n",
       "    }\n",
       "\n",
       "    .dataframe thead th {\n",
       "        text-align: right;\n",
       "    }\n",
       "</style>\n",
       "<table border=\"1\" class=\"dataframe\">\n",
       "  <thead>\n",
       "    <tr style=\"text-align: right;\">\n",
       "      <th></th>\n",
       "      <th>SupplierName</th>\n",
       "      <th>ProductsNumber</th>\n",
       "    </tr>\n",
       "  </thead>\n",
       "  <tbody>\n",
       "    <tr>\n",
       "      <th>0</th>\n",
       "      <td>Mountain Works</td>\n",
       "      <td>30</td>\n",
       "    </tr>\n",
       "    <tr>\n",
       "      <th>4</th>\n",
       "      <td>Aurora Bike Center</td>\n",
       "      <td>19</td>\n",
       "    </tr>\n",
       "    <tr>\n",
       "      <th>9</th>\n",
       "      <td>Ready Rentals</td>\n",
       "      <td>16</td>\n",
       "    </tr>\n",
       "    <tr>\n",
       "      <th>77</th>\n",
       "      <td>Midwest Sport, Inc.</td>\n",
       "      <td>1</td>\n",
       "    </tr>\n",
       "    <tr>\n",
       "      <th>81</th>\n",
       "      <td>Sport Playground</td>\n",
       "      <td>1</td>\n",
       "    </tr>\n",
       "    <tr>\n",
       "      <th>85</th>\n",
       "      <td>Wood Fitness</td>\n",
       "      <td>1</td>\n",
       "    </tr>\n",
       "  </tbody>\n",
       "</table>\n",
       "</div>"
      ],
      "text/plain": [
       "           SupplierName  ProductsNumber\n",
       "0        Mountain Works              30\n",
       "4    Aurora Bike Center              19\n",
       "9         Ready Rentals              16\n",
       "77  Midwest Sport, Inc.               1\n",
       "81     Sport Playground               1\n",
       "85         Wood Fitness               1"
      ]
     },
     "metadata": {},
     "output_type": "display_data"
    }
   ],
   "source": [
    "q51 = ''' SELECT t2.Name AS SupplierName, COUNT(1) AS ProductsNumber\n",
    "        FROM Purchasing.ProductVendor AS t1\n",
    "        INNER JOIN Purchasing.Vendor AS t2\n",
    "            ON (t1.BusinessEntityID = t2.BusinessEntityID)\n",
    "        GROUP BY t2.Name\n",
    "        ORDER BY ProductsNumber DESC, SupplierName'''\n",
    "\n",
    "q51_df = df_from_query(q51)\n",
    "\n",
    "df_view(q51_df)"
   ]
  },
  {
   "cell_type": "markdown",
   "metadata": {},
   "source": [
    "## 5.2. Native Pandas w/ join and merge\n",
    "- at this points the steps are simple, get the DF from a join/merge and then mk the count as in 3_...ipynb using value_counts or groupby + count."
   ]
  },
  {
   "cell_type": "code",
   "execution_count": 76,
   "metadata": {},
   "outputs": [
    {
     "name": "stdout",
     "output_type": "stream",
     "text": [
      "<class 'pandas.core.frame.DataFrame'>\n",
      "RangeIndex: 86 entries, 0 to 85\n",
      "Data columns (total 2 columns):\n",
      " #   Column          Non-Null Count  Dtype \n",
      "---  ------          --------------  ----- \n",
      " 0   SupplierName    86 non-null     object\n",
      " 1   ProductsNumber  86 non-null     int64 \n",
      "dtypes: int64(1), object(1)\n",
      "memory usage: 1.5+ KB\n"
     ]
    },
    {
     "data": {
      "text/plain": [
       "None"
      ]
     },
     "metadata": {},
     "output_type": "display_data"
    },
    {
     "data": {
      "text/html": [
       "<div>\n",
       "<style scoped>\n",
       "    .dataframe tbody tr th:only-of-type {\n",
       "        vertical-align: middle;\n",
       "    }\n",
       "\n",
       "    .dataframe tbody tr th {\n",
       "        vertical-align: top;\n",
       "    }\n",
       "\n",
       "    .dataframe thead th {\n",
       "        text-align: right;\n",
       "    }\n",
       "</style>\n",
       "<table border=\"1\" class=\"dataframe\">\n",
       "  <thead>\n",
       "    <tr style=\"text-align: right;\">\n",
       "      <th></th>\n",
       "      <th>SupplierName</th>\n",
       "      <th>ProductsNumber</th>\n",
       "    </tr>\n",
       "  </thead>\n",
       "  <tbody>\n",
       "    <tr>\n",
       "      <th>0</th>\n",
       "      <td>Mountain Works</td>\n",
       "      <td>30</td>\n",
       "    </tr>\n",
       "    <tr>\n",
       "      <th>4</th>\n",
       "      <td>Aurora Bike Center</td>\n",
       "      <td>19</td>\n",
       "    </tr>\n",
       "    <tr>\n",
       "      <th>9</th>\n",
       "      <td>Ready Rentals</td>\n",
       "      <td>16</td>\n",
       "    </tr>\n",
       "    <tr>\n",
       "      <th>77</th>\n",
       "      <td>Midwest Sport, Inc.</td>\n",
       "      <td>1</td>\n",
       "    </tr>\n",
       "    <tr>\n",
       "      <th>81</th>\n",
       "      <td>Sport Playground</td>\n",
       "      <td>1</td>\n",
       "    </tr>\n",
       "    <tr>\n",
       "      <th>85</th>\n",
       "      <td>Wood Fitness</td>\n",
       "      <td>1</td>\n",
       "    </tr>\n",
       "  </tbody>\n",
       "</table>\n",
       "</div>"
      ],
      "text/plain": [
       "           SupplierName  ProductsNumber\n",
       "0        Mountain Works              30\n",
       "4    Aurora Bike Center              19\n",
       "9         Ready Rentals              16\n",
       "77  Midwest Sport, Inc.               1\n",
       "81     Sport Playground               1\n",
       "85         Wood Fitness               1"
      ]
     },
     "metadata": {},
     "output_type": "display_data"
    },
    {
     "data": {
      "text/plain": [
       "False"
      ]
     },
     "execution_count": 76,
     "metadata": {},
     "output_type": "execute_result"
    }
   ],
   "source": [
    "## df.join()\n",
    "dfi = t1_df.join(\n",
    "    t2_df.set_index(['BusinessEntityID']),\n",
    "    on=['BusinessEntityID'],\n",
    "    how='inner',\n",
    "    lsuffix='_t1',\n",
    "    rsuffix='_t2')[['ProductID', 'StandardPrice', 'BusinessEntityID',\n",
    "                    'Name']].rename(columns={'Name': 'SupplierName'})\n",
    "\n",
    "q52_df = dfi.value_counts('SupplierName').reset_index()\n",
    "# SN = dfi.value_counts('SupplierName')\n",
    "# q52_df = pd.DataFrame({'SupplierName': SN.index, 'ProductsNumber': SN.values})\n",
    "q52_df.rename(columns={'count': 'ProductsNumber'}, inplace=True)\n",
    "q52_df.sort_values(['ProductsNumber', 'SupplierName'], ascending=[False, True],\n",
    "                   inplace=True)\n",
    "#q52_df.index = pd.RangeIndex(start=0, stop=86, step=1)\n",
    "\n",
    "df_view(q52_df)\n",
    "\n",
    "q51_df.equals(q52_df)\n",
    "\n",
    "## OJO acá varias cosas para la comparación \n",
    "# 1. != types of indexes (RangeIndex, int Index, int64.. etc)\n",
    "# 2. Revisar el 'creterio' de orden algabético:\n",
    "# 52\tSignature Cycles\tSUPERSALES INC.\n",
    "# 53\tSuperior Bicycles\tSignature Cycles\n",
    "# 54\tSUPERSALES INC.\tSuperior Bicycles"
   ]
  },
  {
   "cell_type": "code",
   "execution_count": 79,
   "metadata": {},
   "outputs": [
    {
     "data": {
      "text/html": [
       "<div>\n",
       "<style scoped>\n",
       "    .dataframe tbody tr th:only-of-type {\n",
       "        vertical-align: middle;\n",
       "    }\n",
       "\n",
       "    .dataframe tbody tr th {\n",
       "        vertical-align: top;\n",
       "    }\n",
       "\n",
       "    .dataframe thead tr th {\n",
       "        text-align: left;\n",
       "    }\n",
       "</style>\n",
       "<table border=\"1\" class=\"dataframe\">\n",
       "  <thead>\n",
       "    <tr>\n",
       "      <th></th>\n",
       "      <th colspan=\"2\" halign=\"left\">SupplierName</th>\n",
       "    </tr>\n",
       "    <tr>\n",
       "      <th></th>\n",
       "      <th>self</th>\n",
       "      <th>other</th>\n",
       "    </tr>\n",
       "  </thead>\n",
       "  <tbody>\n",
       "    <tr>\n",
       "      <th>52</th>\n",
       "      <td>Signature Cycles</td>\n",
       "      <td>SUPERSALES INC.</td>\n",
       "    </tr>\n",
       "    <tr>\n",
       "      <th>53</th>\n",
       "      <td>Superior Bicycles</td>\n",
       "      <td>Signature Cycles</td>\n",
       "    </tr>\n",
       "    <tr>\n",
       "      <th>54</th>\n",
       "      <td>SUPERSALES INC.</td>\n",
       "      <td>Superior Bicycles</td>\n",
       "    </tr>\n",
       "  </tbody>\n",
       "</table>\n",
       "</div>"
      ],
      "text/plain": [
       "         SupplierName                   \n",
       "                 self              other\n",
       "52   Signature Cycles    SUPERSALES INC.\n",
       "53  Superior Bicycles   Signature Cycles\n",
       "54    SUPERSALES INC.  Superior Bicycles"
      ]
     },
     "execution_count": 79,
     "metadata": {},
     "output_type": "execute_result"
    }
   ],
   "source": [
    "q51_df.compare(q52_df)\n",
    "# display(q51_df.head(5))\n",
    "# display(q52_df.head(5))\n",
    "# print(q51_df.columns)\n",
    "# print(q52_df.columns)\n",
    "# print(q51_df.columns == q52_df.columns)\n",
    "# print(q51_df.index, type(q51_df.index))\n",
    "# print(q52_df.index, type(q52_df.index))\n"
   ]
  },
  {
   "cell_type": "code",
   "execution_count": 80,
   "metadata": {},
   "outputs": [
    {
     "data": {
      "text/html": [
       "<div>\n",
       "<style scoped>\n",
       "    .dataframe tbody tr th:only-of-type {\n",
       "        vertical-align: middle;\n",
       "    }\n",
       "\n",
       "    .dataframe tbody tr th {\n",
       "        vertical-align: top;\n",
       "    }\n",
       "\n",
       "    .dataframe thead th {\n",
       "        text-align: right;\n",
       "    }\n",
       "</style>\n",
       "<table border=\"1\" class=\"dataframe\">\n",
       "  <thead>\n",
       "    <tr style=\"text-align: right;\">\n",
       "      <th></th>\n",
       "      <th>SupplierName</th>\n",
       "      <th>ProductsNumber</th>\n",
       "    </tr>\n",
       "  </thead>\n",
       "  <tbody>\n",
       "    <tr>\n",
       "      <th>52</th>\n",
       "      <td>Signature Cycles</td>\n",
       "      <td>2</td>\n",
       "    </tr>\n",
       "    <tr>\n",
       "      <th>53</th>\n",
       "      <td>Superior Bicycles</td>\n",
       "      <td>2</td>\n",
       "    </tr>\n",
       "    <tr>\n",
       "      <th>54</th>\n",
       "      <td>SUPERSALES INC.</td>\n",
       "      <td>2</td>\n",
       "    </tr>\n",
       "  </tbody>\n",
       "</table>\n",
       "</div>"
      ],
      "text/plain": [
       "         SupplierName  ProductsNumber\n",
       "52   Signature Cycles               2\n",
       "53  Superior Bicycles               2\n",
       "54    SUPERSALES INC.               2"
      ]
     },
     "metadata": {},
     "output_type": "display_data"
    },
    {
     "data": {
      "text/html": [
       "<div>\n",
       "<style scoped>\n",
       "    .dataframe tbody tr th:only-of-type {\n",
       "        vertical-align: middle;\n",
       "    }\n",
       "\n",
       "    .dataframe tbody tr th {\n",
       "        vertical-align: top;\n",
       "    }\n",
       "\n",
       "    .dataframe thead th {\n",
       "        text-align: right;\n",
       "    }\n",
       "</style>\n",
       "<table border=\"1\" class=\"dataframe\">\n",
       "  <thead>\n",
       "    <tr style=\"text-align: right;\">\n",
       "      <th></th>\n",
       "      <th>SupplierName</th>\n",
       "      <th>ProductsNumber</th>\n",
       "    </tr>\n",
       "  </thead>\n",
       "  <tbody>\n",
       "    <tr>\n",
       "      <th>52</th>\n",
       "      <td>SUPERSALES INC.</td>\n",
       "      <td>2</td>\n",
       "    </tr>\n",
       "    <tr>\n",
       "      <th>53</th>\n",
       "      <td>Signature Cycles</td>\n",
       "      <td>2</td>\n",
       "    </tr>\n",
       "    <tr>\n",
       "      <th>54</th>\n",
       "      <td>Superior Bicycles</td>\n",
       "      <td>2</td>\n",
       "    </tr>\n",
       "  </tbody>\n",
       "</table>\n",
       "</div>"
      ],
      "text/plain": [
       "         SupplierName  ProductsNumber\n",
       "52    SUPERSALES INC.               2\n",
       "53   Signature Cycles               2\n",
       "54  Superior Bicycles               2"
      ]
     },
     "metadata": {},
     "output_type": "display_data"
    }
   ],
   "source": [
    "for df in (q51_df, q52_df):\n",
    "    display(df.iloc[52:55])\n"
   ]
  },
  {
   "cell_type": "markdown",
   "metadata": {},
   "source": [
    "### groupby + count and merge is similar...\n",
    "- No las voy a desarrollar ahora, paso a 6"
   ]
  },
  {
   "cell_type": "markdown",
   "metadata": {},
   "source": [
    "## 6. An 'EXTERNAL' exercises\n",
    "1. Make an SQL inner join to get ProductID - ProductName + BusinessEntityID table, in order to have in the above queries not only the productID but also the productName. Put in t3_df\n",
    "2. The first part with SQL (as i said in 1.), and the second part with Pandas using the early t2_df (join and merge betwwen the new t3_df and t2_df )\n",
    "3. To che correct results, sort by the correct values and compare several column of q31 and this new q6_df\n",
    "4. SQL CTE: you can do all this in native SQL using CTE, something i have to analyze specially in MSSQL Srv and exercise in early ntbk (5_AS_&_WITH)"
   ]
  },
  {
   "cell_type": "code",
   "execution_count": 87,
   "metadata": {},
   "outputs": [
    {
     "data": {
      "text/html": [
       "<div>\n",
       "<style scoped>\n",
       "    .dataframe tbody tr th:only-of-type {\n",
       "        vertical-align: middle;\n",
       "    }\n",
       "\n",
       "    .dataframe tbody tr th {\n",
       "        vertical-align: top;\n",
       "    }\n",
       "\n",
       "    .dataframe thead th {\n",
       "        text-align: right;\n",
       "    }\n",
       "</style>\n",
       "<table border=\"1\" class=\"dataframe\">\n",
       "  <thead>\n",
       "    <tr style=\"text-align: right;\">\n",
       "      <th></th>\n",
       "      <th>ProductID</th>\n",
       "      <th>ProdName</th>\n",
       "      <th>StandardPrice</th>\n",
       "      <th>BusinessEntityID</th>\n",
       "    </tr>\n",
       "  </thead>\n",
       "  <tbody>\n",
       "    <tr>\n",
       "      <th>0</th>\n",
       "      <td>1</td>\n",
       "      <td>Adjustable Race</td>\n",
       "      <td>47.8700</td>\n",
       "      <td>1580</td>\n",
       "    </tr>\n",
       "    <tr>\n",
       "      <th>1</th>\n",
       "      <td>2</td>\n",
       "      <td>Bearing Ball</td>\n",
       "      <td>39.9200</td>\n",
       "      <td>1688</td>\n",
       "    </tr>\n",
       "    <tr>\n",
       "      <th>2</th>\n",
       "      <td>4</td>\n",
       "      <td>Headset Ball Bearings</td>\n",
       "      <td>54.3100</td>\n",
       "      <td>1650</td>\n",
       "    </tr>\n",
       "    <tr>\n",
       "      <th>3</th>\n",
       "      <td>317</td>\n",
       "      <td>LL Crankarm</td>\n",
       "      <td>28.1700</td>\n",
       "      <td>1578</td>\n",
       "    </tr>\n",
       "    <tr>\n",
       "      <th>4</th>\n",
       "      <td>317</td>\n",
       "      <td>LL Crankarm</td>\n",
       "      <td>25.7700</td>\n",
       "      <td>1678</td>\n",
       "    </tr>\n",
       "    <tr>\n",
       "      <th>...</th>\n",
       "      <td>...</td>\n",
       "      <td>...</td>\n",
       "      <td>...</td>\n",
       "      <td>...</td>\n",
       "    </tr>\n",
       "    <tr>\n",
       "      <th>455</th>\n",
       "      <td>939</td>\n",
       "      <td>ML Road Pedal</td>\n",
       "      <td>45.9900</td>\n",
       "      <td>1680</td>\n",
       "    </tr>\n",
       "    <tr>\n",
       "      <th>456</th>\n",
       "      <td>940</td>\n",
       "      <td>HL Road Pedal</td>\n",
       "      <td>59.9900</td>\n",
       "      <td>1508</td>\n",
       "    </tr>\n",
       "    <tr>\n",
       "      <th>457</th>\n",
       "      <td>941</td>\n",
       "      <td>Touring Pedal</td>\n",
       "      <td>59.9900</td>\n",
       "      <td>1628</td>\n",
       "    </tr>\n",
       "    <tr>\n",
       "      <th>458</th>\n",
       "      <td>948</td>\n",
       "      <td>Front Brakes</td>\n",
       "      <td>78.8900</td>\n",
       "      <td>1576</td>\n",
       "    </tr>\n",
       "    <tr>\n",
       "      <th>459</th>\n",
       "      <td>952</td>\n",
       "      <td>Chain</td>\n",
       "      <td>14.9900</td>\n",
       "      <td>1674</td>\n",
       "    </tr>\n",
       "  </tbody>\n",
       "</table>\n",
       "<p>460 rows × 4 columns</p>\n",
       "</div>"
      ],
      "text/plain": [
       "     ProductID               ProdName StandardPrice  BusinessEntityID\n",
       "0            1        Adjustable Race       47.8700              1580\n",
       "1            2           Bearing Ball       39.9200              1688\n",
       "2            4  Headset Ball Bearings       54.3100              1650\n",
       "3          317            LL Crankarm       28.1700              1578\n",
       "4          317            LL Crankarm       25.7700              1678\n",
       "..         ...                    ...           ...               ...\n",
       "455        939          ML Road Pedal       45.9900              1680\n",
       "456        940          HL Road Pedal       59.9900              1508\n",
       "457        941          Touring Pedal       59.9900              1628\n",
       "458        948           Front Brakes       78.8900              1576\n",
       "459        952                  Chain       14.9900              1674\n",
       "\n",
       "[460 rows x 4 columns]"
      ]
     },
     "execution_count": 87,
     "metadata": {},
     "output_type": "execute_result"
    }
   ],
   "source": [
    "## t3_df: new df that is de necessary join to get ProductID and ProductName\n",
    "q6 = ''' select t1.ProductID, t2.Name AS ProdName, t1. StandardPrice, BusinessEntityID\n",
    "            from Purchasing.ProductVendor as t1\n",
    "            inner join Production.Product as t2\n",
    "\t            on (t1.ProductID = t2.ProductID);'''\n",
    "\n",
    "t3_df = df_from_query(q6)\n",
    "\n",
    "t3_df"
   ]
  },
  {
   "cell_type": "code",
   "execution_count": 89,
   "metadata": {},
   "outputs": [
    {
     "name": "stdout",
     "output_type": "stream",
     "text": [
      "<class 'pandas.core.frame.DataFrame'>\n",
      "RangeIndex: 12 entries, 0 to 11\n",
      "Data columns (total 5 columns):\n",
      " #   Column            Non-Null Count  Dtype \n",
      "---  ------            --------------  ----- \n",
      " 0   ProductID         12 non-null     int64 \n",
      " 1   ProdName          12 non-null     object\n",
      " 2   StandardPrice     12 non-null     object\n",
      " 3   BusinessEntityID  12 non-null     int64 \n",
      " 4   SupplierName      12 non-null     object\n",
      "dtypes: int64(2), object(3)\n",
      "memory usage: 608.0+ bytes\n"
     ]
    },
    {
     "data": {
      "text/plain": [
       "None"
      ]
     },
     "metadata": {},
     "output_type": "display_data"
    },
    {
     "data": {
      "text/html": [
       "<div>\n",
       "<style scoped>\n",
       "    .dataframe tbody tr th:only-of-type {\n",
       "        vertical-align: middle;\n",
       "    }\n",
       "\n",
       "    .dataframe tbody tr th {\n",
       "        vertical-align: top;\n",
       "    }\n",
       "\n",
       "    .dataframe thead th {\n",
       "        text-align: right;\n",
       "    }\n",
       "</style>\n",
       "<table border=\"1\" class=\"dataframe\">\n",
       "  <thead>\n",
       "    <tr style=\"text-align: right;\">\n",
       "      <th></th>\n",
       "      <th>ProductID</th>\n",
       "      <th>ProdName</th>\n",
       "      <th>StandardPrice</th>\n",
       "      <th>BusinessEntityID</th>\n",
       "      <th>SupplierName</th>\n",
       "    </tr>\n",
       "  </thead>\n",
       "  <tbody>\n",
       "    <tr>\n",
       "      <th>0</th>\n",
       "      <td>908</td>\n",
       "      <td>LL Mountain Seat/Saddle</td>\n",
       "      <td>20.0900</td>\n",
       "      <td>1570</td>\n",
       "      <td>First Rate Bicycles</td>\n",
       "    </tr>\n",
       "    <tr>\n",
       "      <th>4</th>\n",
       "      <td>850</td>\n",
       "      <td>Men's Sports Shorts, L</td>\n",
       "      <td>24.7500</td>\n",
       "      <td>1594</td>\n",
       "      <td>Fitness Association</td>\n",
       "    </tr>\n",
       "    <tr>\n",
       "      <th>9</th>\n",
       "      <td>855</td>\n",
       "      <td>Men's Bib-Shorts, S</td>\n",
       "      <td>38.5000</td>\n",
       "      <td>1594</td>\n",
       "      <td>Fitness Association</td>\n",
       "    </tr>\n",
       "    <tr>\n",
       "      <th>3</th>\n",
       "      <td>849</td>\n",
       "      <td>Men's Sports Shorts, M</td>\n",
       "      <td>24.7500</td>\n",
       "      <td>1594</td>\n",
       "      <td>Fitness Association</td>\n",
       "    </tr>\n",
       "    <tr>\n",
       "      <th>7</th>\n",
       "      <td>853</td>\n",
       "      <td>Women's Tights, M</td>\n",
       "      <td>32.3500</td>\n",
       "      <td>1594</td>\n",
       "      <td>Fitness Association</td>\n",
       "    </tr>\n",
       "    <tr>\n",
       "      <th>11</th>\n",
       "      <td>857</td>\n",
       "      <td>Men's Bib-Shorts, L</td>\n",
       "      <td>37.5000</td>\n",
       "      <td>1594</td>\n",
       "      <td>Fitness Association</td>\n",
       "    </tr>\n",
       "  </tbody>\n",
       "</table>\n",
       "</div>"
      ],
      "text/plain": [
       "    ProductID                 ProdName StandardPrice  BusinessEntityID  \\\n",
       "0         908  LL Mountain Seat/Saddle       20.0900              1570   \n",
       "4         850   Men's Sports Shorts, L       24.7500              1594   \n",
       "9         855      Men's Bib-Shorts, S       38.5000              1594   \n",
       "3         849   Men's Sports Shorts, M       24.7500              1594   \n",
       "7         853        Women's Tights, M       32.3500              1594   \n",
       "11        857      Men's Bib-Shorts, L       37.5000              1594   \n",
       "\n",
       "           SupplierName  \n",
       "0   First Rate Bicycles  \n",
       "4   Fitness Association  \n",
       "9   Fitness Association  \n",
       "3   Fitness Association  \n",
       "7   Fitness Association  \n",
       "11  Fitness Association  "
      ]
     },
     "metadata": {},
     "output_type": "display_data"
    }
   ],
   "source": [
    "dfi = t3_df.merge(t2_df, on=['BusinessEntityID'],\n",
    "                   how='inner')[['ProductID', 'ProdName', 'StandardPrice',\n",
    "                                 'BusinessEntityID', 'Name']].rename(\n",
    "                                     columns={'Name': 'SupplierName'})\n",
    "\n",
    "q6_df = dfi[(dfi.StandardPrice > 10) &\n",
    "            (dfi.SupplierName.str.startswith('F'))].sort_values(by='SupplierName')\n",
    "q6_df.reset_index(drop=True, inplace=True)\n",
    "\n",
    "df_view(q6_df)"
   ]
  },
  {
   "cell_type": "markdown",
   "metadata": {},
   "source": []
  }
 ],
 "metadata": {
  "kernelspec": {
   "display_name": "Python 3",
   "language": "python",
   "name": "python3"
  },
  "language_info": {
   "codemirror_mode": {
    "name": "ipython",
    "version": 3
   },
   "file_extension": ".py",
   "mimetype": "text/x-python",
   "name": "python",
   "nbconvert_exporter": "python",
   "pygments_lexer": "ipython3",
   "version": "3.11.0"
  },
  "orig_nbformat": 4
 },
 "nbformat": 4,
 "nbformat_minor": 2
}
