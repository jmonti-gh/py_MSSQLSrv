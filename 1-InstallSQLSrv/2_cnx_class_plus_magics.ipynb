{
 "cells": [
  {
   "cell_type": "markdown",
   "metadata": {},
   "source": [
    "# Some OOP for DB and Magic Methods"
   ]
  },
  {
   "cell_type": "markdown",
   "metadata": {},
   "source": [
    "## 1. Wrapping the whole connection in a context manager\n",
    "- Out of with CLOSE the cnc ok!"
   ]
  },
  {
   "cell_type": "code",
   "execution_count": 88,
   "metadata": {},
   "outputs": [
    {
     "name": "stdout",
     "output_type": "stream",
     "text": [
      "('Microsoft SQL Server 2019 (RTM) - 15.0.2000.5 (X64) \\n\\tSep 24 2019 13:48:23 \\n\\tCopyright (C) 2019 Microsoft Corporation\\n\\tDeveloper Edition (64-bit) on Windows 10 Pro 10.0 <X64> (Build 19045: )\\n',)\n",
      "True\n"
     ]
    }
   ],
   "source": [
    "from contextlib import contextmanager\n",
    "import pyodbc\n",
    "import sys\n",
    "\n",
    "@contextmanager\n",
    "def open_db_cnx(connection_string, commit=False):\n",
    "    cnx = pyodbc.connect(connection_string)\n",
    "    cursor = cnx.cursor()\n",
    "    try:\n",
    "        yield cursor\n",
    "    except pyodbc.DatabaseError as err:\n",
    "        error, = err.args\n",
    "        sys.stderr.write(error.message)\n",
    "        cursor.execute(\"ROLLBACK\")\n",
    "        raise err\n",
    "    else:\n",
    "        if commit:\n",
    "            cursor.execute(\"COMMIT\")\n",
    "        else:\n",
    "            cursor.execute(\"ROLLBACK\")\n",
    "    finally:\n",
    "        cnx.close()\n",
    "\n",
    "drv = '{ODBC Driver 17 for SQL Server}'\n",
    "srv, port, db = '(local)', 1433, 'BikeStores'\n",
    "usr, pwd = 'user1', 'pass1'\n",
    "cnxstr = f'DRIVER={drv};SERVER={srv};PORT={port};\\\n",
    "    DATABASE={db};UID={usr};PWD={pwd}'\n",
    "\n",
    "with open_db_cnx(cnxstr) as cur:\n",
    "    cur.execute('''SELECT @@Version;''')\n",
    "    print(cur.fetchone())\n",
    "\n",
    "print(cnx.closed)"
   ]
  },
  {
   "cell_type": "markdown",
   "metadata": {},
   "source": [
    "## 2. First OOP aproach"
   ]
  },
  {
   "cell_type": "code",
   "execution_count": 37,
   "metadata": {},
   "outputs": [
    {
     "name": "stdout",
     "output_type": "stream",
     "text": [
      "Cnx Str: DRIVER={ODBC Driver 17 for SQL Server};SERVER=localhost;PORT=1433;            DATABASE=BikeStores;UID=user1;PWD=pass1\n",
      "Connection closed.\n",
      "Connection established!\n",
      "[(6, 'Strider'), (7, 'Sun Bicycles'), (8, 'Surly')]\n",
      "MS-SQLSrv Module for STP on localhost\n"
     ]
    }
   ],
   "source": [
    "import pyodbc\n",
    "\n",
    "\n",
    "class MS_DB:\n",
    "    ''' Doc String'''\n",
    "\n",
    "    def __init__(self, srv, db, usr, pwd, port=1433):\n",
    "        self.drv = '{ODBC Driver 17 for SQL Server}'\n",
    "        self.srv, self.port, self.db = srv, port, db\n",
    "        self.usr, self.pwd = usr, pwd\n",
    "        cnxstr = f'DRIVER={self.drv};SERVER={self.srv};PORT={self.port};\\\n",
    "            DATABASE={self.db};UID={self.usr};PWD={self.pwd}'\n",
    "        print('Cnx Str:', cnxstr)\n",
    "        self._cnx = pyodbc.connect(cnxstr)\n",
    "        pyodbc.pooling = False\n",
    "\n",
    "    def __repr__(self):\n",
    "        return f'''MS-SQLSrv('{self.usr}', <password hidden>, \\\n",
    "            '{self.srv}', '{self.port}', '{self.db}')'''\n",
    "\n",
    "    def __str__(self):\n",
    "        return f\"MS-SQLSrv Module for STP on {self.srv}\"\n",
    "\n",
    "    def __del__(self):\n",
    "        self._cnx.close()\n",
    "        print(\"Connection closed.\")\n",
    "\n",
    "    @contextmanager\n",
    "    def cnx_cur(self, commit :bool = False):\n",
    "        cur = self._cnx.cursor()\n",
    "        try:\n",
    "            yield cur\n",
    "        except pyodbc.DatabaseError as err:\n",
    "            error, = err.args\n",
    "            sys.stderr.write(error.message)\n",
    "            cur.execute(\"ROLLBACK\")\n",
    "            raise err\n",
    "        else:\n",
    "            if commit:\n",
    "                cur.execute(\"COMMIT\")\n",
    "            else:\n",
    "                cur.execute(\"ROLLBACK\")\n",
    "        finally:\n",
    "            cur.close()\n",
    "\n",
    "try:    \n",
    "    db = MS_DB('localhost', 'BikeStores', 'user1', 'pass1')\n",
    "except Exception as e:\n",
    "    sys.stderr.write(f'Error trying to connect to the db: {e}')\n",
    "else:\n",
    "    print('Connection established!')\n",
    "\n",
    "with db.cnx_cur() as cur:\n",
    "    qry = ''' SELECT * FROM production.brands\n",
    "            WHERE brand_name LIKE 's%';'''\n",
    "    cur.execute(qry)\n",
    "    print(cur.fetchall())\n",
    "\n",
    "print(db)\n"
   ]
  },
  {
   "cell_type": "markdown",
   "metadata": {},
   "source": [
    "## 3. A complete MSSQLdb class"
   ]
  },
  {
   "cell_type": "code",
   "execution_count": 96,
   "metadata": {},
   "outputs": [],
   "source": [
    "import pyodbc\n",
    "import pandas as pd\n",
    "\n",
    "\n",
    "class MSSQL_DB:\n",
    "    ''' Doc String'''\n",
    "\n",
    "    def __init__(self, srv, db, usr, pwd, port=1433):\n",
    "        pyodbc.pooling = False\n",
    "        self.drv = '{ODBC Driver 17 for SQL Server}'\n",
    "        self.srv, self.port, self.db = srv, port, db\n",
    "        self.usr, self.pwd = usr, pwd\n",
    "        cnxstr = f'DRIVER={self.drv};SERVER={self.srv};PORT={self.port};\\\n",
    "            DATABASE={self.db};UID={self.usr};PWD={self.pwd}'\n",
    "        print('Cnx Str:', cnxstr)\n",
    "        self._cnx = pyodbc.connect(cnxstr)\n",
    "        self._cur = self._cnx.cursor()\n",
    "\n",
    "    def __enter__(self):\n",
    "        return self\n",
    "    \n",
    "    def __exit__(self, exc_type, exc_val, exc_tb):\n",
    "        self.close()\n",
    "\n",
    "    def __repr__(self):\n",
    "        return f'''MS-SQLSrv('{self.usr}', <password hidden>, \\\n",
    "            '{self.srv}', '{self.port}', '{self.db}')'''\n",
    "\n",
    "    def __str__(self):\n",
    "        return f\"MS-SQLSrv Module for STP on {self.srv}\"\n",
    "    \n",
    "    def commit(self):\n",
    "        self._cnx.commit()\n",
    "\n",
    "    def close(self, commit=True):\n",
    "        if commit:\n",
    "            self.commit()\n",
    "        self._cur.close()\n",
    "        self._cnx.close()\n",
    "        print('cur & cnx are CLOSED')\n",
    "    \n",
    "    def execute(self, sql, params=None):\n",
    "        self._cur.execute(sql, params or ())\n",
    "\n",
    "    def fetchall(self):\n",
    "        return self._cur.fetchall()\n",
    "    \n",
    "    def qry_to_df(self, sql, params=None):\n",
    "        self.execute(sql, params)\n",
    "        cols = [i[0] for i in self._cur.description]\n",
    "        dats = [list(xx) for xx in self._cur]\n",
    "        return pd.DataFrame(data=dats, columns=cols)"
   ]
  },
  {
   "cell_type": "code",
   "execution_count": 97,
   "metadata": {},
   "outputs": [
    {
     "name": "stdout",
     "output_type": "stream",
     "text": [
      "Cnx Str: DRIVER={ODBC Driver 17 for SQL Server};SERVER=localhost;PORT=1433;            DATABASE=BikeStores;UID=user1;PWD=pass1\n"
     ]
    },
    {
     "data": {
      "text/html": [
       "<div>\n",
       "<style scoped>\n",
       "    .dataframe tbody tr th:only-of-type {\n",
       "        vertical-align: middle;\n",
       "    }\n",
       "\n",
       "    .dataframe tbody tr th {\n",
       "        vertical-align: top;\n",
       "    }\n",
       "\n",
       "    .dataframe thead th {\n",
       "        text-align: right;\n",
       "    }\n",
       "</style>\n",
       "<table border=\"1\" class=\"dataframe\">\n",
       "  <thead>\n",
       "    <tr style=\"text-align: right;\">\n",
       "      <th></th>\n",
       "      <th>brand_id</th>\n",
       "      <th>brand_name</th>\n",
       "    </tr>\n",
       "  </thead>\n",
       "  <tbody>\n",
       "    <tr>\n",
       "      <th>0</th>\n",
       "      <td>6</td>\n",
       "      <td>Strider</td>\n",
       "    </tr>\n",
       "    <tr>\n",
       "      <th>1</th>\n",
       "      <td>7</td>\n",
       "      <td>Sun Bicycles</td>\n",
       "    </tr>\n",
       "    <tr>\n",
       "      <th>2</th>\n",
       "      <td>8</td>\n",
       "      <td>Surly</td>\n",
       "    </tr>\n",
       "  </tbody>\n",
       "</table>\n",
       "</div>"
      ],
      "text/plain": [
       "   brand_id    brand_name\n",
       "0         6       Strider\n",
       "1         7  Sun Bicycles\n",
       "2         8         Surly"
      ]
     },
     "metadata": {},
     "output_type": "display_data"
    },
    {
     "name": "stdout",
     "output_type": "stream",
     "text": [
      "cur & cnx are CLOSED\n"
     ]
    }
   ],
   "source": [
    "with MSSQL_DB('localhost', 'BikeStores', 'user1', 'pass1') as db:\n",
    "    qry = ''' SELECT * FROM production.brands\n",
    "            WHERE brand_name LIKE 's%';'''\n",
    "    # db.execute(qry)\n",
    "    # print(db.fetchall())\n",
    "    df = db.qry_to_df(qry)\n",
    "    display(df)"
   ]
  },
  {
   "cell_type": "code",
   "execution_count": 104,
   "metadata": {},
   "outputs": [
    {
     "name": "stdout",
     "output_type": "stream",
     "text": [
      "Cnx Str: DRIVER={ODBC Driver 17 for SQL Server};SERVER=localhost;PORT=1433;            DATABASE=BikeStores;UID=user1;PWD=pass1\n",
      "Conexión con localhost:BikeStores establecida\n"
     ]
    },
    {
     "data": {
      "text/html": [
       "<div>\n",
       "<style scoped>\n",
       "    .dataframe tbody tr th:only-of-type {\n",
       "        vertical-align: middle;\n",
       "    }\n",
       "\n",
       "    .dataframe tbody tr th {\n",
       "        vertical-align: top;\n",
       "    }\n",
       "\n",
       "    .dataframe thead th {\n",
       "        text-align: right;\n",
       "    }\n",
       "</style>\n",
       "<table border=\"1\" class=\"dataframe\">\n",
       "  <thead>\n",
       "    <tr style=\"text-align: right;\">\n",
       "      <th></th>\n",
       "      <th>brand_id</th>\n",
       "      <th>brand_name</th>\n",
       "    </tr>\n",
       "  </thead>\n",
       "  <tbody>\n",
       "  </tbody>\n",
       "</table>\n",
       "</div>"
      ],
      "text/plain": [
       "Empty DataFrame\n",
       "Columns: [brand_id, brand_name]\n",
       "Index: []"
      ]
     },
     "metadata": {},
     "output_type": "display_data"
    },
    {
     "name": "stdout",
     "output_type": "stream",
     "text": [
      "Query OK, .csv creado!\n",
      "cur & cnx are CLOSED\n"
     ]
    }
   ],
   "source": [
    "try:\n",
    "    srv, dbnm, usr, pwd = 'localhost', 'BikeStores', 'user1', 'pass1'\n",
    "    db = MSSQL_DB(srv, dbnm, usr, pwd)\n",
    "except Exception as e:\n",
    "    ln = f'''ERROR -> {e}'''\n",
    "else:\n",
    "    ln = f'''Conexión con {srv}:{dbnm} establecida'''\n",
    "finally:\n",
    "    print(ln)\n",
    "\n",
    "try:\n",
    "    qry =''' SELECT * FROM production.brands\n",
    "        WHERE brand_name LIKE 'a%';'''\n",
    "    assert 'select' not in qry\n",
    "    df = db.qry_to_df(qry)\n",
    "except AssertionError:\n",
    "    ln = f'''Query NO Permitida'''\n",
    "except Exception as e:\n",
    "    ln = f'''ERROR! -> {e}'''\n",
    "else:\n",
    "    # create folder\n",
    "    # write csv\n",
    "    ln = f'''Query OK, .csv creado!'''\n",
    "finally:\n",
    "    display(df)\n",
    "    print(ln)\n",
    "\n",
    "try:\n",
    "    db.close()\n",
    "except Exception as e:\n",
    "    ln = \n",
    "        \n",
    "                  "
   ]
  },
  {
   "cell_type": "markdown",
   "metadata": {},
   "source": [
    "## 3b. Trying a complete MSSQLdb class"
   ]
  },
  {
   "cell_type": "code",
   "execution_count": 90,
   "metadata": {},
   "outputs": [],
   "source": [
    "import pyodbc\n",
    "import pandas as pd\n",
    "\n",
    "\n",
    "class MSSQL_DB:\n",
    "    ''' Doc String'''\n",
    "\n",
    "    def __init__(self, srv, db, usr, pwd, port=1433):\n",
    "        pyodbc.pooling = False\n",
    "        self.drv = '{ODBC Driver 17 for SQL Server}'\n",
    "        self.srv, self.port, self.db = srv, port, db\n",
    "        self.usr, self.pwd = usr, pwd\n",
    "        cnxstr = f'DRIVER={self.drv};SERVER={self.srv};PORT={self.port};\\\n",
    "            DATABASE={self.db};UID={self.usr};PWD={self.pwd}'\n",
    "        print('Cnx Str:', cnxstr)\n",
    "        self._cnx = pyodbc.connect(cnxstr)\n",
    "        self._cur = self._cnx.cursor()\n",
    "\n",
    "    def __enter__(self):\n",
    "        return self\n",
    "    \n",
    "    def __exit__(self, exc_type, exc_val, exc_tb):\n",
    "        self.close()\n",
    "\n",
    "    def __repr__(self):\n",
    "        return f'''MS-SQLSrv('{self.usr}', <password hidden>, \\\n",
    "            '{self.srv}', '{self.port}', '{self.db}')'''\n",
    "\n",
    "    def __str__(self):\n",
    "        return f\"MS-SQLSrv Module for STP on {self.srv}\"\n",
    "    \n",
    "    @property\n",
    "    def cnx(self):\n",
    "        return self._cnx\n",
    "    \n",
    "    @property\n",
    "    def cur(self):\n",
    "        return self._cur\n",
    "    \n",
    "    def commit(self):\n",
    "        self.cnx.commit()\n",
    "\n",
    "    def close(self, commit=True):\n",
    "        if commit:\n",
    "            self.commit()\n",
    "        self.cur.close()\n",
    "        self.cnx.close()\n",
    "        print('cur & cnx are CLOSED')\n",
    "    \n",
    "    def execute(self, sql, params=None):\n",
    "        self.cur.execute(sql, params or ())\n",
    "\n",
    "    def fetchall(self):\n",
    "        return self.cur.fetchall()\n",
    "    \n",
    "    def qry_to_df(self, sql, params=None):\n",
    "        self.execute(sql, params)\n",
    "        cols = [i[0] for i in self.cur.description]\n",
    "        dats = [list(xx) for xx in self.cur]\n",
    "        return pd.DataFrame(data=dats, columns=cols)"
   ]
  },
  {
   "cell_type": "code",
   "execution_count": 92,
   "metadata": {},
   "outputs": [
    {
     "name": "stdout",
     "output_type": "stream",
     "text": [
      "Cnx Str: DRIVER={ODBC Driver 17 for SQL Server};SERVER=localhost;PORT=1433;            DATABASE=BikeStores;UID=user1;PWD=pass1\n"
     ]
    },
    {
     "data": {
      "text/html": [
       "<div>\n",
       "<style scoped>\n",
       "    .dataframe tbody tr th:only-of-type {\n",
       "        vertical-align: middle;\n",
       "    }\n",
       "\n",
       "    .dataframe tbody tr th {\n",
       "        vertical-align: top;\n",
       "    }\n",
       "\n",
       "    .dataframe thead th {\n",
       "        text-align: right;\n",
       "    }\n",
       "</style>\n",
       "<table border=\"1\" class=\"dataframe\">\n",
       "  <thead>\n",
       "    <tr style=\"text-align: right;\">\n",
       "      <th></th>\n",
       "      <th>brand_id</th>\n",
       "      <th>brand_name</th>\n",
       "    </tr>\n",
       "  </thead>\n",
       "  <tbody>\n",
       "    <tr>\n",
       "      <th>0</th>\n",
       "      <td>6</td>\n",
       "      <td>Strider</td>\n",
       "    </tr>\n",
       "    <tr>\n",
       "      <th>1</th>\n",
       "      <td>7</td>\n",
       "      <td>Sun Bicycles</td>\n",
       "    </tr>\n",
       "    <tr>\n",
       "      <th>2</th>\n",
       "      <td>8</td>\n",
       "      <td>Surly</td>\n",
       "    </tr>\n",
       "  </tbody>\n",
       "</table>\n",
       "</div>"
      ],
      "text/plain": [
       "   brand_id    brand_name\n",
       "0         6       Strider\n",
       "1         7  Sun Bicycles\n",
       "2         8         Surly"
      ]
     },
     "metadata": {},
     "output_type": "display_data"
    },
    {
     "name": "stdout",
     "output_type": "stream",
     "text": [
      "cur & cnx are CLOSED\n"
     ]
    }
   ],
   "source": [
    "with MSSQL_DB('localhost', 'BikeStores', 'user1', 'pass1') as db:\n",
    "    qry = ''' SELECT * FROM production.brands\n",
    "            WHERE brand_name LIKE 's%';'''\n",
    "    # db.execute(qry)\n",
    "    # print(db.fetchall())\n",
    "    df = db.qry_to_df(qry)\n",
    "    display(df)"
   ]
  },
  {
   "cell_type": "markdown",
   "metadata": {},
   "source": [
    "## 4. Use with to manage the connection\n",
    "- Out of with DO NOT close the cnx."
   ]
  },
  {
   "cell_type": "code",
   "execution_count": null,
   "metadata": {},
   "outputs": [],
   "source": [
    "import pyodbc\n",
    "\n",
    "drv = '{ODBC Driver 17 for SQL Server}'\n",
    "srv, port, db = '(local)', 1433, 'BikeStores'\n",
    "usr, pwd = 'user1', 'pass1'\n",
    "cnxstr = f'DRIVER={drv};SERVER={srv};PORT={port};\\\n",
    "    DATABASE={db};UID={usr};PWD={pwd}'\n",
    "\n",
    "try:\n",
    "    cnx = pyodbc.connect(cnxstr)\n",
    "except Exception as e:\n",
    "    print(f'''Error! {e}''')\n",
    "else:\n",
    "    print(f'''Cnx to {srv}:{db} Established!''')\n",
    "\n",
    "with cnx:\n",
    "    cur = cnx.cursor()\n",
    "    cur.execute('''SELECT @@Version;''')\n",
    "    print(cur.fetchone())\n",
    "\n",
    "cur.close()\n",
    "cnx.close()\n",
    "print(cnx.closed)"
   ]
  },
  {
   "cell_type": "code",
   "execution_count": null,
   "metadata": {},
   "outputs": [],
   "source": []
  },
  {
   "cell_type": "markdown",
   "metadata": {},
   "source": [
    "## 1. Some MM"
   ]
  },
  {
   "cell_type": "code",
   "execution_count": null,
   "metadata": {},
   "outputs": [],
   "source": [
    "class MyClass:\n",
    "    def __init__(self, name) -> None:\n",
    "        self.name = name\n",
    "        print('__init__')\n",
    "    def __enter__(self):\n",
    "        print('__enter__')\n",
    "        return self\n",
    "    def __exit__(self, ex_type, ex_value, ex_tb):\n",
    "        print(\"__exit__\")\n",
    "    def __del__(self):\n",
    "        print(\"__del__\")\n",
    "    def __str__(self):\n",
    "        return self.name\n",
    "    def __repr__(self) -> str:\n",
    "        return f'''{__class__.__name__}('{self.name}')'''\n",
    "\n",
    "o1 = MyClass('o1')   \n",
    "print(o1)\n",
    "print(o1.__class__.__name__)\n",
    "print(str(o1))\n",
    "print(repr(o1))\n",
    "print()\n",
    "\n",
    "with MyClass('obj1') as o:\n",
    "    print(f'''I'm {str(o)}, an instance {repr(o)}''')"
   ]
  },
  {
   "cell_type": "markdown",
   "metadata": {},
   "source": [
    "## 2. LOGs"
   ]
  },
  {
   "cell_type": "code",
   "execution_count": null,
   "metadata": {},
   "outputs": [],
   "source": [
    "import datetime as dtm\n",
    "\n",
    "fstamp = dtm.datetime.now().strftime('%Y%m%d%H%M')\n",
    "\n",
    "class Log:\n",
    "    def __init__(self, fn):\n",
    "        self.fn = fn\n",
    "        self.fp = None\n",
    "        self.closed = None\n",
    "    def logging(self, msg):\n",
    "        tstamp = dtm.datetime.now().strftime('%b %d %H:%M')\n",
    "        self.fp.write(f'''{tstamp} {msg}\\n''')\n",
    "    def __enter__(self):\n",
    "        print('__enter__ Mm')\n",
    "        self.closed = False\n",
    "        self.fp = open(self.fn, 'a+')\n",
    "        return self\n",
    "    def __exit__(self, exc_type, exc_val, exc_tb):\n",
    "        print(\"__exit__\")\n",
    "        self.closed = True\n",
    "        self.fp.close()\n",
    "\n",
    "with Log(f'''logs_files/log_{fstamp}''') as lf:\n",
    "    print('Main')\n",
    "    for msg in 't1', 'TEST#2', 3, dtm.datetime.now():\n",
    "        lf.logging(msg)\n",
    "        print(f'''lf status: {lf.closed}''')\n",
    "\n",
    "print(f'''lf status: {lf.closed}''')\n",
    "        "
   ]
  },
  {
   "cell_type": "markdown",
   "metadata": {},
   "source": [
    "## 91. Decorators 1"
   ]
  },
  {
   "cell_type": "code",
   "execution_count": null,
   "metadata": {},
   "outputs": [],
   "source": [
    "def null_decorator(func):\n",
    "    return func\n",
    "# A callable (null_decorator) that takes a callable as input (func), and return\n",
    "# another callable (func). The input is the parameter of the decorator\n",
    "\n",
    "# first use of this 'null_decorator':\n",
    "@null_decorator\n",
    "def greet():\n",
    "    return 'Hello'\n",
    "\n",
    "#greet = null_decorator(greet)   # This is what @null_decorator do over greet funct\n",
    "\n",
    "greet()"
   ]
  },
  {
   "cell_type": "markdown",
   "metadata": {},
   "source": [
    "##  92. Decorators 2\n",
    "- Wrapper funct. add code to the paseed funct. as argument\n",
    "- Decorator returns the wrapper funct. (actually the funct. passed wrappered)"
   ]
  },
  {
   "cell_type": "code",
   "execution_count": 46,
   "metadata": {},
   "outputs": [
    {
     "name": "stdout",
     "output_type": "stream",
     "text": [
      "An remember group 'you want it you have it' \n",
      "wrapper code before '<function say_slogan at 0x000002892AC48D60>' \n",
      "An remember group 'you want it you have it' \n",
      "wrapper code after '<function say_slogan at 0x000002892AC48D60>' \n"
     ]
    }
   ],
   "source": [
    "def deco_wrapper_func(fun):\n",
    "    def wrapper_func():\n",
    "        print(f'''wrapper code before '{fun}' ''')\n",
    "        fun()\n",
    "        print(f'''wrapper code after '{fun}' ''' )\n",
    "    return wrapper_func\n",
    "\n",
    "def say_slogan(group='group'):\n",
    "    print(f'''An remember {group} 'you want it you have it' ''')\n",
    "\n",
    "dec_say_slgn = deco_wrapper_func(say_slogan)\n",
    "\n",
    "## primitive func\n",
    "say_slogan()\n",
    "\n",
    "## linear decorated func\n",
    "dec_say_slgn()"
   ]
  },
  {
   "cell_type": "markdown",
   "metadata": {},
   "source": [
    ">If I use dcorator suggar sintax y lost primitive funct."
   ]
  },
  {
   "cell_type": "code",
   "execution_count": 48,
   "metadata": {},
   "outputs": [
    {
     "name": "stdout",
     "output_type": "stream",
     "text": [
      "wrapper code before '<function say_slgn_2 at 0x000002892AC485E0>' \n",
      "An remember group 'you ask for it you get it' \n",
      "wrapper code after '<function say_slgn_2 at 0x000002892AC485E0>' \n"
     ]
    }
   ],
   "source": [
    "@deco_wrapper_func\n",
    "def say_slgn_2(group='group'):\n",
    "     print(f'''An remember {group} 'you ask for it you get it' ''')\n",
    "\n",
    "say_slgn_2()"
   ]
  },
  {
   "cell_type": "markdown",
   "metadata": {},
   "source": [
    "## 93. Example using @property\n",
    "- In Python, property() is a built-in function that creates and returns a property object.\n",
    "- A property object has three methods, getter(), setter(), and delete().\n",
    "- property func convert methods in attributes to ensure encapsulation¿?"
   ]
  },
  {
   "cell_type": "code",
   "execution_count": 56,
   "metadata": {},
   "outputs": [
    {
     "name": "stdout",
     "output_type": "stream",
     "text": [
      "Celsius\n",
      "60.8\n",
      "16\n",
      "{'_temperature': 19}\n"
     ]
    }
   ],
   "source": [
    "## Classic Class that store temperature in Celsius degrees\n",
    "class Celsius:\n",
    "    def __init__(self, temperature = 0):\n",
    "        self.set_temperature(temperature)\n",
    "\n",
    "    def to_fahrenheit(self):\n",
    "        return (self.get_temperature() * 1.8) + 32\n",
    "\n",
    "    def get_temperature(self):\n",
    "        return self._temperature\n",
    "\n",
    "    def set_temperature(self, value):\n",
    "        if value < -273:\n",
    "            raise ValueError(\"Temperature below -273 is not possible\")\n",
    "        self._temperature = value\n",
    "\n",
    "t1 = Celsius(16)\n",
    "print(t1.to_fahrenheit())\n",
    "print(t1.get_temperature())\n",
    "t1.set_temperature(t1.get_temperature() + 3)\n",
    "print(t1.__dict__)\n",
    "#dir(t1)\n",
    "#print(Celsius.__dict__)"
   ]
  },
  {
   "cell_type": "code",
   "execution_count": 67,
   "metadata": {},
   "outputs": [
    {
     "name": "stdout",
     "output_type": "stream",
     "text": [
      "60.8\n",
      "16\n",
      "19\n",
      "{'_temperature': 19}\n"
     ]
    }
   ],
   "source": [
    "## Refactor code using property in order to avoid using Celsius Class methods\n",
    "class Celsius:\n",
    "    def __init__(self, temperature = 0):\n",
    "        self.set_temperature(temperature)\n",
    "    def to_fahrenheit(self):\n",
    "        return (self.get_temperature() * 1.8) + 32\n",
    "    def get_temperature(self):\n",
    "        return self._temperature\n",
    "    def set_temperature(self, value):\n",
    "        if value < -273:\n",
    "            raise ValueError(\"Temperature below -273 is not possible\")\n",
    "        self._temperature = value\n",
    "    def del_temperature(self):\n",
    "        print('del_self-temp')\n",
    "        del self._temperature\n",
    "    temperature = property(get_temperature, set_temperature, del_temperature,\n",
    "                           '''I'm the 'temperature' property of Celsius''')\n",
    "    # # make empty property\n",
    "    # temperature = property()\n",
    "    # # assign fget\n",
    "    # temperature = temperature.getter(get_temperature)\n",
    "    # # assign fset\n",
    "    # temperature = temperature.setter(set_temperature)\n",
    "\n",
    "t1 = Celsius(16)\n",
    "print(t1.to_fahrenheit())\n",
    "print(t1.temperature)\n",
    "t1.temperature = t1.temperature + 3\n",
    "print(t1.temperature)\n",
    "#print(temperature)\n",
    "print(t1.__dict__)\n",
    "#dir(t1)\n",
    "#print(Celsius.__dict__)"
   ]
  },
  {
   "cell_type": "code",
   "execution_count": 69,
   "metadata": {},
   "outputs": [
    {
     "name": "stdout",
     "output_type": "stream",
     "text": [
      "Getting value\n",
      "12\n",
      "Getting value\n",
      "Setting value\n",
      "Getting value\n",
      "17\n"
     ]
    }
   ],
   "source": [
    "## The pythonic way to deal with the above problem is to use @property.\n",
    "class Celsius:\n",
    "    def __init__(self, temperature = 0):\n",
    "        self._temperature = temperature\n",
    "    def to_fahrenheit(self):\n",
    "        return (self.temperature * 1.8) + 32\n",
    "    @property\n",
    "    def temperature(self):\n",
    "        '''I'm the 'temperature' property of Celsius'''\n",
    "        print(\"Getting value\")\n",
    "        return self._temperature\n",
    "    @temperature.setter\n",
    "    def temperature(self, value):\n",
    "        if value < -273:\n",
    "            raise ValueError(\"Temperature below -273 is not possible\")\n",
    "        print(\"Setting value\")\n",
    "        self._temperature = value\n",
    "    @temperature.deleter\n",
    "    def temperature(self):\n",
    "        print('del_self-temp')\n",
    "        del self._temperature\n",
    "\n",
    "t1 = Celsius(12)\n",
    "print(t1.temperature)\n",
    "t1.temperature = t1.temperature + 5\n",
    "print(t1.temperature)\n",
    "\n",
    "# https://stackoverflow.com/questions/17330160/how-does-the-property-decorator-work-in-python\n",
    "# https://www.machinelearningplus.com/python/python-property/"
   ]
  },
  {
   "cell_type": "code",
   "execution_count": null,
   "metadata": {},
   "outputs": [],
   "source": []
  },
  {
   "cell_type": "markdown",
   "metadata": {},
   "source": [
    "- https://stackoverflow.com/questions/3783238/python-database-connection-close\n",
    "- https://stackoverflow.com/questions/38076220/python-mysqldb-connection-in-a-class/38078544#38078544\n",
    "- https://stackoverflow.com/questions/17330160/how-does-the-property-decorator-work-in-python"
   ]
  },
  {
   "cell_type": "code",
   "execution_count": null,
   "metadata": {},
   "outputs": [],
   "source": []
  },
  {
   "cell_type": "code",
   "execution_count": null,
   "metadata": {},
   "outputs": [],
   "source": []
  },
  {
   "cell_type": "markdown",
   "metadata": {},
   "source": [
    "## 1. Some OOP 'magic methods'\n"
   ]
  },
  {
   "cell_type": "code",
   "execution_count": null,
   "metadata": {},
   "outputs": [],
   "source": [
    "class A:\n",
    "    def __init__(self, objnm):\n",
    "        self.jm0, self.objnm = 'jm0', objnm\n",
    "\n",
    "    def __str__(self):\n",
    "        return f'''I'm {self.objnm} Object from 'a' class'''\n",
    "    \n",
    "    def __del__(self):\n",
    "        print(f'''Object {self.objnm} leaving the game''')\n",
    "\n",
    "    "
   ]
  },
  {
   "cell_type": "code",
   "execution_count": null,
   "metadata": {},
   "outputs": [],
   "source": []
  }
 ],
 "metadata": {
  "kernelspec": {
   "display_name": "Python 3",
   "language": "python",
   "name": "python3"
  },
  "language_info": {
   "codemirror_mode": {
    "name": "ipython",
    "version": 3
   },
   "file_extension": ".py",
   "mimetype": "text/x-python",
   "name": "python",
   "nbconvert_exporter": "python",
   "pygments_lexer": "ipython3",
   "version": "3.11.0"
  },
  "orig_nbformat": 4
 },
 "nbformat": 4,
 "nbformat_minor": 2
}
