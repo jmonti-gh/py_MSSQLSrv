{
 "cells": [
  {
   "cell_type": "code",
   "execution_count": null,
   "metadata": {},
   "outputs": [],
   "source": []
  },
  {
   "cell_type": "code",
   "execution_count": null,
   "metadata": {},
   "outputs": [],
   "source": [
    "import os\n",
    "for dir, dirs, files in os.walk('C:/Users/jm/git_repos/Motor_Calculo/2-ot30_Des3/'):\n",
    "    #print(f''' {d} \\n {_} \\n {f}''')\n",
    "    print(dir)\n",
    "    for file in files:\n",
    "        # var = os.path.join(dir, file)\n",
    "        # print(var, type(var))\n",
    "        print(f'''\\t{file}''')"
   ]
  },
  {
   "cell_type": "code",
   "execution_count": 13,
   "metadata": {},
   "outputs": [
    {
     "name": "stdout",
     "output_type": "stream",
     "text": [
      "<generator object _walk at 0x000002AAD78FF400>\n"
     ]
    }
   ],
   "source": [
    "print(os.walk('C:/Users/jm/git_repos/Motor_Calculo/2-ot30_Des3/'))"
   ]
  },
  {
   "cell_type": "code",
   "execution_count": null,
   "metadata": {},
   "outputs": [],
   "source": []
  },
  {
   "cell_type": "code",
   "execution_count": null,
   "metadata": {},
   "outputs": [],
   "source": [
    "import pandas as pd\n",
    "\n",
    "df = pd.read_csv('frienzone_data.csv')\n",
    "correlattion = df.corr()['FRIENDZONE']\n",
    "correlattion = correlattion.drop('FRIENDZONE')"
   ]
  }
 ],
 "metadata": {
  "kernelspec": {
   "display_name": "Python 3",
   "language": "python",
   "name": "python3"
  },
  "language_info": {
   "codemirror_mode": {
    "name": "ipython",
    "version": 3
   },
   "file_extension": ".py",
   "mimetype": "text/x-python",
   "name": "python",
   "nbconvert_exporter": "python",
   "pygments_lexer": "ipython3",
   "version": "3.11.0"
  },
  "orig_nbformat": 4
 },
 "nbformat": 4,
 "nbformat_minor": 2
}
